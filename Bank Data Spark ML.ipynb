{
 "cells": [
  {
   "cell_type": "code",
   "execution_count": 1,
   "metadata": {
    "id": "AX3imD6cWzg1"
   },
   "outputs": [],
   "source": [
    "!apt-get install openjdk-8-jdk-headless -qq > /dev/null\n",
    "!wget -q https://archive.apache.org/dist/spark/spark-3.0.1/spark-3.0.1-bin-hadoop2.7.tgz"
   ]
  },
  {
   "cell_type": "code",
   "execution_count": 2,
   "metadata": {
    "id": "2RYCdRaUW-oW"
   },
   "outputs": [],
   "source": [
    "!tar xf spark-3.0.1-bin-hadoop2.7.tgz\n",
    "!pip install -q findspark"
   ]
  },
  {
   "cell_type": "code",
   "execution_count": 3,
   "metadata": {
    "id": "X3_mzSlsXBhi"
   },
   "outputs": [],
   "source": [
    "import os \n",
    "os.environ[\"JAVA_HOME\"] = \"/usr/lib/jvm/java-8-openjdk-amd64\"\n",
    "os.environ[\"SPARK_HOME\"] = \"/content//spark-3.0.1-bin-hadoop2.7\""
   ]
  },
  {
   "cell_type": "code",
   "execution_count": 4,
   "metadata": {
    "id": "VSZkoJnuXDct"
   },
   "outputs": [],
   "source": [
    "import findspark\n",
    "findspark.init()"
   ]
  },
  {
   "cell_type": "code",
   "execution_count": 5,
   "metadata": {
    "colab": {
     "base_uri": "https://localhost:8080/"
    },
    "id": "-MOQUBTzXFGQ",
    "outputId": "0d52f310-047c-4825-d289-ed5c15df19dd"
   },
   "outputs": [
    {
     "name": "stdout",
     "output_type": "stream",
     "text": [
      "Looking in indexes: https://pypi.org/simple, https://us-python.pkg.dev/colab-wheels/public/simple/\n",
      "Collecting chart_studio\n",
      "  Downloading chart_studio-1.1.0-py3-none-any.whl (64 kB)\n",
      "\u001b[?25l\r",
      "\u001b[K     |█████                           | 10 kB 19.3 MB/s eta 0:00:01\r",
      "\u001b[K     |██████████▏                     | 20 kB 26.0 MB/s eta 0:00:01\r",
      "\u001b[K     |███████████████▎                | 30 kB 14.5 MB/s eta 0:00:01\r",
      "\u001b[K     |████████████████████▍           | 40 kB 6.2 MB/s eta 0:00:01\r",
      "\u001b[K     |█████████████████████████▍      | 51 kB 7.2 MB/s eta 0:00:01\r",
      "\u001b[K     |██████████████████████████████▌ | 61 kB 7.6 MB/s eta 0:00:01\r",
      "\u001b[K     |████████████████████████████████| 64 kB 2.3 MB/s \n",
      "\u001b[?25hRequirement already satisfied: requests in /usr/local/lib/python3.8/dist-packages (from chart_studio) (2.23.0)\n",
      "Collecting retrying>=1.3.3\n",
      "  Downloading retrying-1.3.4-py3-none-any.whl (11 kB)\n",
      "Requirement already satisfied: six in /usr/local/lib/python3.8/dist-packages (from chart_studio) (1.15.0)\n",
      "Requirement already satisfied: plotly in /usr/local/lib/python3.8/dist-packages (from chart_studio) (5.5.0)\n",
      "Requirement already satisfied: tenacity>=6.2.0 in /usr/local/lib/python3.8/dist-packages (from plotly->chart_studio) (8.1.0)\n",
      "Requirement already satisfied: urllib3!=1.25.0,!=1.25.1,<1.26,>=1.21.1 in /usr/local/lib/python3.8/dist-packages (from requests->chart_studio) (1.24.3)\n",
      "Requirement already satisfied: chardet<4,>=3.0.2 in /usr/local/lib/python3.8/dist-packages (from requests->chart_studio) (3.0.4)\n",
      "Requirement already satisfied: certifi>=2017.4.17 in /usr/local/lib/python3.8/dist-packages (from requests->chart_studio) (2022.12.7)\n",
      "Requirement already satisfied: idna<3,>=2.5 in /usr/local/lib/python3.8/dist-packages (from requests->chart_studio) (2.10)\n",
      "Installing collected packages: retrying, chart-studio\n",
      "Successfully installed chart-studio-1.1.0 retrying-1.3.4\n"
     ]
    }
   ],
   "source": [
    "! pip install chart_studio"
   ]
  },
  {
   "cell_type": "code",
   "execution_count": 6,
   "metadata": {
    "id": "7V9NdzIyZYsG"
   },
   "outputs": [],
   "source": [
    "from pyspark.sql.types import *\n",
    "from pyspark.sql.functions import * "
   ]
  },
  {
   "cell_type": "code",
   "execution_count": 7,
   "metadata": {
    "id": "ZuHyYdFVZcoe"
   },
   "outputs": [],
   "source": [
    "import numpy as np\n",
    "import pandas as pd\n",
    "from io import StringIO"
   ]
  },
  {
   "cell_type": "code",
   "execution_count": 10,
   "metadata": {
    "id": "lNWjr-oHZfLL"
   },
   "outputs": [],
   "source": [
    "import pyspark\n",
    "from pyspark.sql import SparkSession\n",
    "spark = SparkSession.builder.appName('SparkML_1').getOrCreate()\n",
    "df = spark.read.csv('/content/bank_data.csv', header = True, inferSchema = True)"
   ]
  },
  {
   "cell_type": "code",
   "execution_count": 11,
   "metadata": {
    "colab": {
     "base_uri": "https://localhost:8080/",
     "height": 222
    },
    "id": "j9cQw4bGZ39D",
    "outputId": "dab83ed1-4471-4645-8799-d22d2b77a370"
   },
   "outputs": [
    {
     "data": {
      "text/html": [
       "\n",
       "            <div>\n",
       "                <p><b>SparkSession - in-memory</b></p>\n",
       "                \n",
       "        <div>\n",
       "            <p><b>SparkContext</b></p>\n",
       "\n",
       "            <p><a href=\"http://8351afad24ab:4040\">Spark UI</a></p>\n",
       "\n",
       "            <dl>\n",
       "              <dt>Version</dt>\n",
       "                <dd><code>v3.0.1</code></dd>\n",
       "              <dt>Master</dt>\n",
       "                <dd><code>local[*]</code></dd>\n",
       "              <dt>AppName</dt>\n",
       "                <dd><code>SparkML_1</code></dd>\n",
       "            </dl>\n",
       "        </div>\n",
       "        \n",
       "            </div>\n",
       "        "
      ],
      "text/plain": [
       "<pyspark.sql.session.SparkSession at 0x7f6c739b7970>"
      ]
     },
     "execution_count": 11,
     "metadata": {},
     "output_type": "execute_result"
    }
   ],
   "source": [
    "spark"
   ]
  },
  {
   "cell_type": "code",
   "execution_count": 12,
   "metadata": {
    "id": "AD283PwAZhAz"
   },
   "outputs": [],
   "source": [
    "bankDataSchema = StructType([\n",
    "                 StructField(\"seqId\",IntegerType(),True),\n",
    "                 StructField(\"age\",IntegerType(),True),\n",
    "                 StructField(\"job\",StringType(),True),\n",
    "                 StructField(\"maritalStatus\",StringType(),True),\n",
    "                 StructField(\"education\",StringType(),True),\n",
    "                 StructField(\"default\",StringType(),True),\n",
    "                 StructField(\"balance\",DoubleType(),True),\n",
    "                 StructField(\"housing\",StringType(),True),\n",
    "                 StructField(\"loan\",StringType(),True),\n",
    "                 StructField(\"contact\",StringType(),True),\n",
    "                 StructField(\"day\",IntegerType(),True),\n",
    "                 StructField(\"month\",StringType(),True),\n",
    "                 StructField(\"duration\",DoubleType(),True),\n",
    "                 StructField(\"campaign\",DoubleType(),True),\n",
    "                 StructField(\"pdays\",DoubleType(),True),\n",
    "                 StructField(\"previous\",DoubleType(),True),\n",
    "                 StructField(\"poutcome\",StringType(),True),\n",
    "                 StructField(\"opened_new_td_act_yes_no\",StringType(),True)\n",
    "                 ])"
   ]
  },
  {
   "cell_type": "code",
   "execution_count": 17,
   "metadata": {
    "id": "hksA2CDsZkbT"
   },
   "outputs": [],
   "source": [
    "bankDF = spark.read.format('csv')\\\n",
    ".option('header','false')\\\n",
    ".option('inferSchema','true')\\\n",
    ".load(\"bank_data.csv\", schema=bankDataSchema)"
   ]
  },
  {
   "cell_type": "code",
   "execution_count": 18,
   "metadata": {
    "colab": {
     "base_uri": "https://localhost:8080/"
    },
    "id": "WgpBu-2XaBXV",
    "outputId": "db2a8fe1-382e-4e0e-f71a-585a4596864a"
   },
   "outputs": [
    {
     "name": "stdout",
     "output_type": "stream",
     "text": [
      "root\n",
      " |-- seqId: integer (nullable = true)\n",
      " |-- age: integer (nullable = true)\n",
      " |-- job: string (nullable = true)\n",
      " |-- maritalStatus: string (nullable = true)\n",
      " |-- education: string (nullable = true)\n",
      " |-- default: string (nullable = true)\n",
      " |-- balance: double (nullable = true)\n",
      " |-- housing: string (nullable = true)\n",
      " |-- loan: string (nullable = true)\n",
      " |-- contact: string (nullable = true)\n",
      " |-- day: integer (nullable = true)\n",
      " |-- month: string (nullable = true)\n",
      " |-- duration: double (nullable = true)\n",
      " |-- campaign: double (nullable = true)\n",
      " |-- pdays: double (nullable = true)\n",
      " |-- previous: double (nullable = true)\n",
      " |-- poutcome: string (nullable = true)\n",
      " |-- opened_new_td_act_yes_no: string (nullable = true)\n",
      "\n"
     ]
    }
   ],
   "source": [
    "bankDF.printSchema()"
   ]
  },
  {
   "cell_type": "code",
   "execution_count": 19,
   "metadata": {
    "colab": {
     "base_uri": "https://localhost:8080/"
    },
    "id": "KMubwv51aEf7",
    "outputId": "a13da2b6-d2f2-4865-baed-76c8859e33f0"
   },
   "outputs": [
    {
     "data": {
      "text/plain": [
       "[('seqId', 'int'),\n",
       " ('age', 'int'),\n",
       " ('job', 'string'),\n",
       " ('maritalStatus', 'string'),\n",
       " ('education', 'string'),\n",
       " ('default', 'string'),\n",
       " ('balance', 'double'),\n",
       " ('housing', 'string'),\n",
       " ('loan', 'string'),\n",
       " ('contact', 'string'),\n",
       " ('day', 'int'),\n",
       " ('month', 'string'),\n",
       " ('duration', 'double'),\n",
       " ('campaign', 'double'),\n",
       " ('pdays', 'double'),\n",
       " ('previous', 'double'),\n",
       " ('poutcome', 'string'),\n",
       " ('opened_new_td_act_yes_no', 'string')]"
      ]
     },
     "execution_count": 19,
     "metadata": {},
     "output_type": "execute_result"
    }
   ],
   "source": [
    "bankDF.dtypes"
   ]
  },
  {
   "cell_type": "code",
   "execution_count": 20,
   "metadata": {
    "colab": {
     "base_uri": "https://localhost:8080/"
    },
    "id": "GDg5gIbHaGXi",
    "outputId": "d9337bc6-d4ce-461a-fb3f-cea9095d03d3"
   },
   "outputs": [
    {
     "name": "stdout",
     "output_type": "stream",
     "text": [
      "+-----+---+----------+-------------+---------+-------+-------+-------+----+--------+---+-----+--------+--------+-----+--------+--------+------------------------+\n",
      "|seqId|age|       job|maritalStatus|education|default|balance|housing|loan| contact|day|month|duration|campaign|pdays|previous|poutcome|opened_new_td_act_yes_no|\n",
      "+-----+---+----------+-------------+---------+-------+-------+-------+----+--------+---+-----+--------+--------+-----+--------+--------+------------------------+\n",
      "| 1001| 30|unemployed|      married|  primary|     no| 1787.0|     no|  no|cellular| 19|  oct|    79.0|     1.0| -1.0|     0.0| unknown|                      no|\n",
      "| 1002| 33|  services|      married|secondary|     no| 4789.0|    yes| yes|cellular| 11|  may|   220.0|     1.0|339.0|     4.0| failure|                      no|\n",
      "| 1003| 35|management|       single| tertiary|     no| 1350.0|    yes|  no|cellular| 16|  apr|   185.0|     1.0|330.0|     1.0| failure|                      no|\n",
      "+-----+---+----------+-------------+---------+-------+-------+-------+----+--------+---+-----+--------+--------+-----+--------+--------+------------------------+\n",
      "only showing top 3 rows\n",
      "\n"
     ]
    }
   ],
   "source": [
    "bankDF.show(3)"
   ]
  },
  {
   "cell_type": "code",
   "execution_count": 21,
   "metadata": {
    "colab": {
     "base_uri": "https://localhost:8080/"
    },
    "id": "Yk0qd_cVaID6",
    "outputId": "de80916b-99c1-449e-bd99-7c49efdc3dd8"
   },
   "outputs": [
    {
     "data": {
      "text/plain": [
       "DataFrame[seqId: int, age: int, job: string, maritalStatus: string, education: string, default: string, balance: double, housing: string, loan: string, contact: string, day: int, month: string, duration: double, campaign: double, pdays: double, previous: double, poutcome: string, opened_new_td_act_yes_no: string]"
      ]
     },
     "execution_count": 21,
     "metadata": {},
     "output_type": "execute_result"
    }
   ],
   "source": [
    "bankDF.cache()"
   ]
  },
  {
   "cell_type": "code",
   "execution_count": 22,
   "metadata": {
    "colab": {
     "base_uri": "https://localhost:8080/"
    },
    "id": "0RT8nsbiaLR5",
    "outputId": "9036ce18-72fc-4840-e152-df2cf227871e"
   },
   "outputs": [
    {
     "data": {
      "text/plain": [
       "[Row(seqId=1001, age=30, job='unemployed', maritalStatus='married', education='primary', default='no', balance=1787.0, housing='no', loan='no', contact='cellular', day=19, month='oct', duration=79.0, campaign=1.0, pdays=-1.0, previous=0.0, poutcome='unknown', opened_new_td_act_yes_no='no'),\n",
       " Row(seqId=1002, age=33, job='services', maritalStatus='married', education='secondary', default='no', balance=4789.0, housing='yes', loan='yes', contact='cellular', day=11, month='may', duration=220.0, campaign=1.0, pdays=339.0, previous=4.0, poutcome='failure', opened_new_td_act_yes_no='no')]"
      ]
     },
     "execution_count": 22,
     "metadata": {},
     "output_type": "execute_result"
    }
   ],
   "source": [
    "bankDF.take(2)"
   ]
  },
  {
   "cell_type": "code",
   "execution_count": 24,
   "metadata": {
    "colab": {
     "base_uri": "https://localhost:8080/"
    },
    "id": "r58nbRzTaNOC",
    "outputId": "9d9576de-8c42-458a-ae05-035275432e69"
   },
   "outputs": [
    {
     "data": {
      "text/plain": [
       "18"
      ]
     },
     "execution_count": 24,
     "metadata": {},
     "output_type": "execute_result"
    }
   ],
   "source": [
    "len(bankDF.columns)"
   ]
  },
  {
   "cell_type": "code",
   "execution_count": 25,
   "metadata": {
    "colab": {
     "base_uri": "https://localhost:8080/"
    },
    "id": "Emy3YoFzaQWP",
    "outputId": "c914ea70-08c2-4ddf-893b-116ac678d4b7"
   },
   "outputs": [
    {
     "data": {
      "text/plain": [
       "4521"
      ]
     },
     "execution_count": 25,
     "metadata": {},
     "output_type": "execute_result"
    }
   ],
   "source": [
    "bankDF.count() #Row count"
   ]
  },
  {
   "cell_type": "code",
   "execution_count": 26,
   "metadata": {
    "id": "QWLk3o4QaSZW"
   },
   "outputs": [],
   "source": [
    "bankDF = bankDF.drop('seqId')"
   ]
  },
  {
   "cell_type": "code",
   "execution_count": 27,
   "metadata": {
    "colab": {
     "base_uri": "https://localhost:8080/"
    },
    "id": "DaG9X98raUL6",
    "outputId": "0860123f-1931-40f2-e82b-c0cd61ad6526"
   },
   "outputs": [
    {
     "data": {
      "text/plain": [
       "17"
      ]
     },
     "execution_count": 27,
     "metadata": {},
     "output_type": "execute_result"
    }
   ],
   "source": [
    "len(bankDF.columns)"
   ]
  },
  {
   "cell_type": "code",
   "execution_count": 28,
   "metadata": {
    "colab": {
     "base_uri": "https://localhost:8080/"
    },
    "id": "YWzYt9dVaV9H",
    "outputId": "e693b4c3-3c02-45af-f9b0-c986e5f3b520"
   },
   "outputs": [
    {
     "name": "stdout",
     "output_type": "stream",
     "text": [
      "+-------+------------------+-------+-------------+---------+-------+------------------+-------+----+--------+------------------+-----+------------------+------------------+------------------+------------------+--------+------------------------+\n",
      "|summary|               age|    job|maritalStatus|education|default|           balance|housing|loan| contact|               day|month|          duration|          campaign|             pdays|          previous|poutcome|opened_new_td_act_yes_no|\n",
      "+-------+------------------+-------+-------------+---------+-------+------------------+-------+----+--------+------------------+-----+------------------+------------------+------------------+------------------+--------+------------------------+\n",
      "|  count|              4521|   4521|         4521|     4521|   4521|              4521|   4521|4521|    4521|              4521| 4521|              4521|              4521|              4521|              4521|    4521|                    4521|\n",
      "|   mean| 41.17009511170095|   null|         null|     null|   null|1422.6578190665782|   null|null|    null|15.915284229152842| null|263.96129174961294| 2.793629727936297|39.766644547666445|0.5425790754257908|    null|                    null|\n",
      "| stddev|10.576210958711263|   null|         null|     null|   null|3009.6381424673395|   null|null|    null| 8.247667327229934| null|259.85663262468216|3.1098066601885823|100.12112444301656|1.6935623506071211|    null|                    null|\n",
      "|    min|                19| admin.|     divorced|  primary|     no|           -3313.0|     no|  no|cellular|                 1|  apr|               4.0|               1.0|              -1.0|               0.0| failure|                      no|\n",
      "|    max|                87|unknown|       single|  unknown|    yes|           71188.0|    yes| yes| unknown|                31|  sep|            3025.0|              50.0|             871.0|              25.0| unknown|                     yes|\n",
      "+-------+------------------+-------+-------------+---------+-------+------------------+-------+----+--------+------------------+-----+------------------+------------------+------------------+------------------+--------+------------------------+\n",
      "\n"
     ]
    }
   ],
   "source": [
    "bankDF.describe().show()"
   ]
  },
  {
   "cell_type": "code",
   "execution_count": 29,
   "metadata": {
    "colab": {
     "base_uri": "https://localhost:8080/"
    },
    "id": "k3V8LeZNaXl9",
    "outputId": "681cf8fd-0876-41d0-f4f8-5fa975a085b7"
   },
   "outputs": [
    {
     "name": "stdout",
     "output_type": "stream",
     "text": [
      "+-------+------------------+----+------------------+------------------+\n",
      "|summary|               age|loan|           balance|             pdays|\n",
      "+-------+------------------+----+------------------+------------------+\n",
      "|  count|              4521|4521|              4521|              4521|\n",
      "|   mean| 41.17009511170095|null|1422.6578190665782|39.766644547666445|\n",
      "| stddev|10.576210958711263|null|3009.6381424673395|100.12112444301656|\n",
      "|    min|                19|  no|           -3313.0|              -1.0|\n",
      "|    max|                87| yes|           71188.0|             871.0|\n",
      "+-------+------------------+----+------------------+------------------+\n",
      "\n"
     ]
    }
   ],
   "source": [
    "bankDF.describe().select('summary','age','loan','balance','pdays').show()"
   ]
  },
  {
   "cell_type": "code",
   "execution_count": 30,
   "metadata": {
    "colab": {
     "base_uri": "https://localhost:8080/"
    },
    "id": "6D-98kGmaZ1Y",
    "outputId": "eb6188a1-a784-4d4a-aa30-34b21572da36"
   },
   "outputs": [
    {
     "name": "stdout",
     "output_type": "stream",
     "text": [
      "+---+------+-------------+---------+-------+-------+-------+----+--------+---+-----+--------+--------+-----+--------+--------+------------------------+\n",
      "|age|   job|maritalStatus|education|default|balance|housing|loan| contact|day|month|duration|campaign|pdays|previous|poutcome|opened_new_td_act_yes_no|\n",
      "+---+------+-------------+---------+-------+-------+-------+----+--------+---+-----+--------+--------+-----+--------+--------+------------------------+\n",
      "| 19|admin.|     divorced|  primary|     no|-3313.0|     no|  no|cellular|  1|  apr|     4.0|     1.0| -1.0|     0.0| failure|                      no|\n",
      "+---+------+-------------+---------+-------+-------+-------+----+--------+---+-----+--------+--------+-----+--------+--------+------------------------+\n",
      "\n"
     ]
    }
   ],
   "source": [
    "bankDF.agg(*(min(col(c)).alias(c) for c in bankDF.columns)).show()"
   ]
  },
  {
   "cell_type": "code",
   "execution_count": 88,
   "metadata": {
    "colab": {
     "base_uri": "https://localhost:8080/"
    },
    "id": "GLIISS_qvqkF",
    "outputId": "d08dac12-7c75-41b2-82a3-22312fdbdb88"
   },
   "outputs": [
    {
     "name": "stdout",
     "output_type": "stream",
     "text": [
      "+---+-------+-------------+---------+-------+-------+-------+----+-------+---+-----+--------+--------+-----+--------+--------+------------------------+\n",
      "|age|    job|maritalStatus|education|default|balance|housing|loan|contact|day|month|duration|campaign|pdays|previous|poutcome|opened_new_td_act_yes_no|\n",
      "+---+-------+-------------+---------+-------+-------+-------+----+-------+---+-----+--------+--------+-----+--------+--------+------------------------+\n",
      "| 87|unknown|       single|  unknown|    yes|71188.0|    yes| yes|unknown| 31|  sep|  3025.0|    50.0|871.0|    25.0| unknown|                     yes|\n",
      "+---+-------+-------------+---------+-------+-------+-------+----+-------+---+-----+--------+--------+-----+--------+--------+------------------------+\n",
      "\n"
     ]
    }
   ],
   "source": [
    "bankDF.agg(*(max(col(c)).alias(c) for c in bankDF.columns)).show()"
   ]
  },
  {
   "cell_type": "code",
   "execution_count": 31,
   "metadata": {
    "colab": {
     "base_uri": "https://localhost:8080/"
    },
    "id": "SKPsCxK-abxj",
    "outputId": "b8741f0d-03b6-4f24-df5e-9852a19367ba"
   },
   "outputs": [
    {
     "data": {
      "text/plain": [
       "366"
      ]
     },
     "execution_count": 31,
     "metadata": {},
     "output_type": "execute_result"
    }
   ],
   "source": [
    "bankDF.where(bankDF.balance < 0).count()  #Count of negetive balances"
   ]
  },
  {
   "cell_type": "code",
   "execution_count": 32,
   "metadata": {
    "colab": {
     "base_uri": "https://localhost:8080/"
    },
    "id": "TAIXow7haeRd",
    "outputId": "d59e5b07-483c-452f-9eac-3dac9f2e79a0"
   },
   "outputs": [
    {
     "data": {
      "text/plain": [
       "0"
      ]
     },
     "execution_count": 32,
     "metadata": {},
     "output_type": "execute_result"
    }
   ],
   "source": [
    "from pyspark.sql.functions import when \n",
    "bankDF = bankDF.withColumn('balance',when(bankDF.balance>0,bankDF.balance).otherwise(0))  #witholumn - Make changes to column \n",
    "zerobalanceDF = bankDF.where(bankDF.balance < 0) #replace -ve balances with zeros\n",
    "zerobalanceDF.count()"
   ]
  },
  {
   "cell_type": "code",
   "execution_count": 33,
   "metadata": {
    "id": "bBXOvBi7agxI"
   },
   "outputs": [],
   "source": [
    "bankDF.createOrReplaceTempView('bankDFTable')"
   ]
  },
  {
   "cell_type": "code",
   "execution_count": 34,
   "metadata": {
    "id": "4_94LRs5aix1"
   },
   "outputs": [],
   "source": [
    "resultDF = spark.sql(\"\"\"\n",
    " SELECT opened_new_td_act_yes_no, COUNT(*) AS count\n",
    " FROM bankDFTable\n",
    " GROUP BY opened_new_td_act_yes_no\n",
    "\"\"\")"
   ]
  },
  {
   "cell_type": "code",
   "execution_count": 35,
   "metadata": {
    "colab": {
     "base_uri": "https://localhost:8080/"
    },
    "id": "CLl0EIhaak-7",
    "outputId": "e2b9b41c-46a6-4610-dbea-56ac878800f8"
   },
   "outputs": [
    {
     "name": "stdout",
     "output_type": "stream",
     "text": [
      "+------------------------+-----+\n",
      "|opened_new_td_act_yes_no|count|\n",
      "+------------------------+-----+\n",
      "|                      no| 4000|\n",
      "|                     yes|  521|\n",
      "+------------------------+-----+\n",
      "\n"
     ]
    }
   ],
   "source": [
    "resultDF.show()"
   ]
  },
  {
   "cell_type": "code",
   "execution_count": 89,
   "metadata": {
    "colab": {
     "base_uri": "https://localhost:8080/",
     "height": 175
    },
    "id": "ooJV0i0Kyyww",
    "outputId": "0e18bdc8-f459-41f9-9085-a46034de1b3f"
   },
   "outputs": [
    {
     "data": {
      "text/html": [
       "\n",
       "  <div id=\"df-68592044-d940-44e5-827e-c86c6bfa6f6e\">\n",
       "    <div class=\"colab-df-container\">\n",
       "      <div>\n",
       "<style scoped>\n",
       "    .dataframe tbody tr th:only-of-type {\n",
       "        vertical-align: middle;\n",
       "    }\n",
       "\n",
       "    .dataframe tbody tr th {\n",
       "        vertical-align: top;\n",
       "    }\n",
       "\n",
       "    .dataframe thead th {\n",
       "        text-align: right;\n",
       "    }\n",
       "</style>\n",
       "<table border=\"1\" class=\"dataframe\">\n",
       "  <thead>\n",
       "    <tr style=\"text-align: right;\">\n",
       "      <th></th>\n",
       "      <th>education</th>\n",
       "      <th>count</th>\n",
       "    </tr>\n",
       "  </thead>\n",
       "  <tbody>\n",
       "    <tr>\n",
       "      <th>0</th>\n",
       "      <td>unknown</td>\n",
       "      <td>19</td>\n",
       "    </tr>\n",
       "    <tr>\n",
       "      <th>1</th>\n",
       "      <td>tertiary</td>\n",
       "      <td>193</td>\n",
       "    </tr>\n",
       "    <tr>\n",
       "      <th>2</th>\n",
       "      <td>secondary</td>\n",
       "      <td>245</td>\n",
       "    </tr>\n",
       "    <tr>\n",
       "      <th>3</th>\n",
       "      <td>primary</td>\n",
       "      <td>64</td>\n",
       "    </tr>\n",
       "  </tbody>\n",
       "</table>\n",
       "</div>\n",
       "      <button class=\"colab-df-convert\" onclick=\"convertToInteractive('df-68592044-d940-44e5-827e-c86c6bfa6f6e')\"\n",
       "              title=\"Convert this dataframe to an interactive table.\"\n",
       "              style=\"display:none;\">\n",
       "        \n",
       "  <svg xmlns=\"http://www.w3.org/2000/svg\" height=\"24px\"viewBox=\"0 0 24 24\"\n",
       "       width=\"24px\">\n",
       "    <path d=\"M0 0h24v24H0V0z\" fill=\"none\"/>\n",
       "    <path d=\"M18.56 5.44l.94 2.06.94-2.06 2.06-.94-2.06-.94-.94-2.06-.94 2.06-2.06.94zm-11 1L8.5 8.5l.94-2.06 2.06-.94-2.06-.94L8.5 2.5l-.94 2.06-2.06.94zm10 10l.94 2.06.94-2.06 2.06-.94-2.06-.94-.94-2.06-.94 2.06-2.06.94z\"/><path d=\"M17.41 7.96l-1.37-1.37c-.4-.4-.92-.59-1.43-.59-.52 0-1.04.2-1.43.59L10.3 9.45l-7.72 7.72c-.78.78-.78 2.05 0 2.83L4 21.41c.39.39.9.59 1.41.59.51 0 1.02-.2 1.41-.59l7.78-7.78 2.81-2.81c.8-.78.8-2.07 0-2.86zM5.41 20L4 18.59l7.72-7.72 1.47 1.35L5.41 20z\"/>\n",
       "  </svg>\n",
       "      </button>\n",
       "      \n",
       "  <style>\n",
       "    .colab-df-container {\n",
       "      display:flex;\n",
       "      flex-wrap:wrap;\n",
       "      gap: 12px;\n",
       "    }\n",
       "\n",
       "    .colab-df-convert {\n",
       "      background-color: #E8F0FE;\n",
       "      border: none;\n",
       "      border-radius: 50%;\n",
       "      cursor: pointer;\n",
       "      display: none;\n",
       "      fill: #1967D2;\n",
       "      height: 32px;\n",
       "      padding: 0 0 0 0;\n",
       "      width: 32px;\n",
       "    }\n",
       "\n",
       "    .colab-df-convert:hover {\n",
       "      background-color: #E2EBFA;\n",
       "      box-shadow: 0px 1px 2px rgba(60, 64, 67, 0.3), 0px 1px 3px 1px rgba(60, 64, 67, 0.15);\n",
       "      fill: #174EA6;\n",
       "    }\n",
       "\n",
       "    [theme=dark] .colab-df-convert {\n",
       "      background-color: #3B4455;\n",
       "      fill: #D2E3FC;\n",
       "    }\n",
       "\n",
       "    [theme=dark] .colab-df-convert:hover {\n",
       "      background-color: #434B5C;\n",
       "      box-shadow: 0px 1px 3px 1px rgba(0, 0, 0, 0.15);\n",
       "      filter: drop-shadow(0px 1px 2px rgba(0, 0, 0, 0.3));\n",
       "      fill: #FFFFFF;\n",
       "    }\n",
       "  </style>\n",
       "\n",
       "      <script>\n",
       "        const buttonEl =\n",
       "          document.querySelector('#df-68592044-d940-44e5-827e-c86c6bfa6f6e button.colab-df-convert');\n",
       "        buttonEl.style.display =\n",
       "          google.colab.kernel.accessAllowed ? 'block' : 'none';\n",
       "\n",
       "        async function convertToInteractive(key) {\n",
       "          const element = document.querySelector('#df-68592044-d940-44e5-827e-c86c6bfa6f6e');\n",
       "          const dataTable =\n",
       "            await google.colab.kernel.invokeFunction('convertToInteractive',\n",
       "                                                     [key], {});\n",
       "          if (!dataTable) return;\n",
       "\n",
       "          const docLinkHtml = 'Like what you see? Visit the ' +\n",
       "            '<a target=\"_blank\" href=https://colab.research.google.com/notebooks/data_table.ipynb>data table notebook</a>'\n",
       "            + ' to learn more about interactive tables.';\n",
       "          element.innerHTML = '';\n",
       "          dataTable['output_type'] = 'display_data';\n",
       "          await google.colab.output.renderOutput(dataTable, element);\n",
       "          const docLink = document.createElement('div');\n",
       "          docLink.innerHTML = docLinkHtml;\n",
       "          element.appendChild(docLink);\n",
       "        }\n",
       "      </script>\n",
       "    </div>\n",
       "  </div>\n",
       "  "
      ],
      "text/plain": [
       "   education  count\n",
       "0    unknown     19\n",
       "1   tertiary    193\n",
       "2  secondary    245\n",
       "3    primary     64"
      ]
     },
     "execution_count": 89,
     "metadata": {},
     "output_type": "execute_result"
    }
   ],
   "source": [
    "pdDF"
   ]
  },
  {
   "cell_type": "code",
   "execution_count": null,
   "metadata": {
    "colab": {
     "base_uri": "https://localhost:8080/"
    },
    "id": "8-C6JNlwanJ3",
    "outputId": "e8ed6aac-6204-4b0f-8b23-d2f014513687"
   },
   "outputs": [
    {
     "name": "stdout",
     "output_type": "stream",
     "text": [
      "+------------------------+-----+\n",
      "|opened_new_td_act_yes_no|count|\n",
      "+------------------------+-----+\n",
      "|                      no| 4000|\n",
      "|                     yes|  521|\n",
      "+------------------------+-----+\n",
      "\n"
     ]
    }
   ],
   "source": [
    "bankDF.groupBy(\"opened_new_td_act_yes_no\").count().show()"
   ]
  },
  {
   "cell_type": "code",
   "execution_count": 37,
   "metadata": {
    "colab": {
     "base_uri": "https://localhost:8080/",
     "height": 17
    },
    "id": "inHmlfzoapRt",
    "outputId": "99d06d34-92ea-471f-b27a-6113ba46b489"
   },
   "outputs": [
    {
     "data": {
      "text/html": [
       "        <script type=\"text/javascript\">\n",
       "        window.PlotlyConfig = {MathJaxConfig: 'local'};\n",
       "        if (window.MathJax) {MathJax.Hub.Config({SVG: {font: \"STIX-Web\"}});}\n",
       "        if (typeof require !== 'undefined') {\n",
       "        require.undef(\"plotly\");\n",
       "        requirejs.config({\n",
       "            paths: {\n",
       "                'plotly': ['https://cdn.plot.ly/plotly-2.8.3.min']\n",
       "            }\n",
       "        });\n",
       "        require(['plotly'], function(Plotly) {\n",
       "            window._Plotly = Plotly;\n",
       "        });\n",
       "        }\n",
       "        </script>\n",
       "        "
      ]
     },
     "metadata": {},
     "output_type": "display_data"
    }
   ],
   "source": [
    "import matplotlib.pyplot as plt\n",
    "import seaborn as sns\n",
    "import chart_studio\n",
    "import plotly\n",
    "chart_studio.tools.set_credentials_file(username='rach_13', api_key='5bwcbLgYqifH6eycZZjO')\n",
    "import plotly.figure_factory as ff\n",
    "import chart_studio.plotly as py\n",
    "import plotly.offline as pyoff\n",
    "import plotly.graph_objects as go\n",
    "import warnings\n",
    "### Initialize settings \n",
    "sns.set_style('whitegrid')\n",
    "sns.set(color_codes=True)\n",
    "warnings.filterwarnings('ignore')\n",
    "pyoff.init_notebook_mode(connected=True)\n",
    "get_ipython().magic('matplotlib inline')"
   ]
  },
  {
   "cell_type": "code",
   "execution_count": 38,
   "metadata": {
    "colab": {
     "base_uri": "https://localhost:8080/",
     "height": 547
    },
    "id": "13r8s0XNazLH",
    "outputId": "ea50fcc3-889e-4fc1-b890-3e285feb8835"
   },
   "outputs": [
    {
     "data": {
      "text/html": [
       "\n",
       "        <iframe\n",
       "            width=\"100%\"\n",
       "            height=\"525px\"\n",
       "            src=\"https://plotly.com/~rach_13/1.embed\"\n",
       "            frameborder=\"0\"\n",
       "            allowfullscreen\n",
       "        ></iframe>\n",
       "        "
      ],
      "text/plain": [
       "<IPython.lib.display.IFrame at 0x7f6c69a1b130>"
      ]
     },
     "execution_count": 38,
     "metadata": {},
     "output_type": "execute_result"
    }
   ],
   "source": [
    "pdDF = resultDF.toPandas()\n",
    "data = [\n",
    "        go.Bar(\n",
    "            x=pdDF['opened_new_td_act_yes_no'],\n",
    "            y=pdDF['count']\n",
    "        )\n",
    "\n",
    "]\n",
    "layout = go.Layout(title='Term Deposit Yes/No Counts')\n",
    "fig = go.Figure(data=data,layout=layout)\n",
    "py.iplot(fig)"
   ]
  },
  {
   "cell_type": "markdown",
   "metadata": {
    "id": "4LZ6Q0_Pa9iY"
   },
   "source": [
    "### Other variables that could be considered for exploratory data analysis"
   ]
  },
  {
   "cell_type": "markdown",
   "metadata": {
    "id": "GujXvPLfbFDV"
   },
   "source": [
    "loan vs opened_new_td_act_yes_no</br>\n",
    "marital_status vs opened_new_td_act_yes_no</br>\n",
    "job vs opened_new_td_act_yes_no</br>\n",
    "education </br>\n",
    "Divorced,married, single </br>"
   ]
  },
  {
   "cell_type": "code",
   "execution_count": 39,
   "metadata": {
    "id": "9FdXKA2wbDfi"
   },
   "outputs": [],
   "source": [
    "resultDF = bankDF.crosstab('opened_new_td_act_yes_no','loan') #crosstabb --> pairwise frequency"
   ]
  },
  {
   "cell_type": "code",
   "execution_count": 40,
   "metadata": {
    "colab": {
     "base_uri": "https://localhost:8080/"
    },
    "id": "UvuW2ynTbOPY",
    "outputId": "8c199ea9-49c9-4e2f-a940-3e6425885d87"
   },
   "outputs": [
    {
     "name": "stdout",
     "output_type": "stream",
     "text": [
      "+-----------------------------+----+---+\n",
      "|opened_new_td_act_yes_no_loan|  no|yes|\n",
      "+-----------------------------+----+---+\n",
      "|                          yes| 478| 43|\n",
      "|                           no|3352|648|\n",
      "+-----------------------------+----+---+\n",
      "\n"
     ]
    }
   ],
   "source": [
    "resultDF.show()"
   ]
  },
  {
   "cell_type": "code",
   "execution_count": 41,
   "metadata": {
    "id": "llrcOpM_bQ36"
   },
   "outputs": [],
   "source": [
    "pdDF = resultDF.toPandas()"
   ]
  },
  {
   "cell_type": "code",
   "execution_count": 42,
   "metadata": {
    "id": "fGwjLeNCbViF"
   },
   "outputs": [],
   "source": [
    "pdDF.columns = ['opened_new_td_act_yes_no_loan','No_Existing_loan','Existing_loan']"
   ]
  },
  {
   "cell_type": "code",
   "execution_count": 43,
   "metadata": {
    "colab": {
     "base_uri": "https://localhost:8080/",
     "height": 547
    },
    "id": "FNrDZdLubXG5",
    "outputId": "0f7ce903-9140-4119-f309-0a33edd96eea"
   },
   "outputs": [
    {
     "data": {
      "text/html": [
       "\n",
       "        <iframe\n",
       "            width=\"100%\"\n",
       "            height=\"525px\"\n",
       "            src=\"https://plotly.com/~rach_13/3.embed\"\n",
       "            frameborder=\"0\"\n",
       "            allowfullscreen\n",
       "        ></iframe>\n",
       "        "
      ],
      "text/plain": [
       "<IPython.lib.display.IFrame at 0x7f6c68607fa0>"
      ]
     },
     "execution_count": 43,
     "metadata": {},
     "output_type": "execute_result"
    }
   ],
   "source": [
    "data = [\n",
    "     go.Bar(\n",
    "            x=['Opted_for_loan','No_opted_loan'],\n",
    "            y=pdDF['No_Existing_loan'],\n",
    "            name='No Existing Loans'\n",
    "        ),\n",
    "     go.Bar(\n",
    "         x = ['Opted_for_loan','Not_opted_loan'],\n",
    "         y = pdDF['Existing_loan'],\n",
    "         name = 'Existing Loans'\n",
    "     ) \n",
    "]\n",
    "layout=go.Layout(\n",
    "    title='Exsiting/Non-existing loans - Counts'\n",
    ")\n",
    "fig = go.Figure(data=data,layout=layout)\n",
    "py.iplot(fig)  "
   ]
  },
  {
   "cell_type": "code",
   "execution_count": 44,
   "metadata": {
    "id": "BcFvFpFebZYQ"
   },
   "outputs": [],
   "source": [
    "### For different job categories \n",
    "resultDF = spark.sql(\"\"\"\n",
    "SELECT \n",
    "   job,\n",
    "   COUNT(*) AS term_deposit_yes_cnt\n",
    "   FROM bankDFTable\n",
    "   WHERE opened_new_td_act_yes_no = \"yes\"\n",
    "   GROUP BY job\n",
    "\"\"\")"
   ]
  },
  {
   "cell_type": "code",
   "execution_count": 45,
   "metadata": {
    "colab": {
     "base_uri": "https://localhost:8080/",
     "height": 547
    },
    "id": "GlO3fByvbd9C",
    "outputId": "28204408-1c88-4585-8149-2dd89e0f3f8c"
   },
   "outputs": [
    {
     "data": {
      "text/html": [
       "\n",
       "        <iframe\n",
       "            width=\"100%\"\n",
       "            height=\"525px\"\n",
       "            src=\"https://plotly.com/~rach_13/5.embed\"\n",
       "            frameborder=\"0\"\n",
       "            allowfullscreen\n",
       "        ></iframe>\n",
       "        "
      ],
      "text/plain": [
       "<IPython.lib.display.IFrame at 0x7f6c685bb700>"
      ]
     },
     "execution_count": 45,
     "metadata": {},
     "output_type": "execute_result"
    }
   ],
   "source": [
    "pdDF = resultDF.toPandas()\n",
    "data = [\n",
    "       go.Bar(\n",
    "           x = pdDF['job'],\n",
    "           y = pdDF['term_deposit_yes_cnt']\n",
    "       ) \n",
    "]\n",
    "layout = go.Layout(title=\"Term deposit counts in each job category\")\n",
    "fig = go.Figure(data=data,layout=layout)\n",
    "py.iplot(fig)"
   ]
  },
  {
   "cell_type": "code",
   "execution_count": 46,
   "metadata": {
    "id": "JA6KnN2xbgDs"
   },
   "outputs": [],
   "source": [
    "### For different job categories \n",
    "resultDF = spark.sql(\"\"\"\n",
    "SELECT \n",
    "   job,\n",
    "   COUNT(*) AS term_deposit_no_cnt\n",
    "   FROM bankDFTable\n",
    "   WHERE opened_new_td_act_yes_no = \"no\"\n",
    "   GROUP BY job\n",
    "\"\"\")"
   ]
  },
  {
   "cell_type": "code",
   "execution_count": 47,
   "metadata": {
    "colab": {
     "base_uri": "https://localhost:8080/",
     "height": 547
    },
    "id": "uJvmJHxLbnk5",
    "outputId": "bcd61148-01a4-4f86-c7f6-6737b663dd3d"
   },
   "outputs": [
    {
     "data": {
      "text/html": [
       "\n",
       "        <iframe\n",
       "            width=\"100%\"\n",
       "            height=\"525px\"\n",
       "            src=\"https://plotly.com/~rach_13/7.embed\"\n",
       "            frameborder=\"0\"\n",
       "            allowfullscreen\n",
       "        ></iframe>\n",
       "        "
      ],
      "text/plain": [
       "<IPython.lib.display.IFrame at 0x7f6c682c1a90>"
      ]
     },
     "execution_count": 47,
     "metadata": {},
     "output_type": "execute_result"
    }
   ],
   "source": [
    "pdDF = resultDF.toPandas()\n",
    "data = [\n",
    "       go.Bar(\n",
    "           x = pdDF['job'],\n",
    "           y = pdDF['term_deposit_no_cnt']\n",
    "       ) \n",
    "]\n",
    "layout = go.Layout(title=\"Term deposit not opted counts in each job category\")\n",
    "fig = go.Figure(data=data,layout=layout)\n",
    "py.iplot(fig)"
   ]
  },
  {
   "cell_type": "code",
   "execution_count": 48,
   "metadata": {
    "colab": {
     "base_uri": "https://localhost:8080/"
    },
    "id": "qOJ18CMVbpnR",
    "outputId": "6e87c8a4-57f7-4760-c57a-e69741fdbf6f"
   },
   "outputs": [
    {
     "name": "stdout",
     "output_type": "stream",
     "text": [
      "+---------+-----+\n",
      "|education|count|\n",
      "+---------+-----+\n",
      "|  unknown|   19|\n",
      "| tertiary|  193|\n",
      "|secondary|  245|\n",
      "|  primary|   64|\n",
      "+---------+-----+\n",
      "\n"
     ]
    }
   ],
   "source": [
    "resultDF = bankDF.filter(expr(\"opened_new_td_act_yes_no='yes'\")).groupBy(\"education\").count()\n",
    "resultDF.show()"
   ]
  },
  {
   "cell_type": "code",
   "execution_count": 49,
   "metadata": {
    "colab": {
     "base_uri": "https://localhost:8080/",
     "height": 547
    },
    "id": "rWpi5DD7btX5",
    "outputId": "caaf2723-0b3c-4f94-e8a2-2a7ba561f557"
   },
   "outputs": [
    {
     "data": {
      "text/html": [
       "\n",
       "        <iframe\n",
       "            width=\"100%\"\n",
       "            height=\"525px\"\n",
       "            src=\"https://plotly.com/~rach_13/9.embed\"\n",
       "            frameborder=\"0\"\n",
       "            allowfullscreen\n",
       "        ></iframe>\n",
       "        "
      ],
      "text/plain": [
       "<IPython.lib.display.IFrame at 0x7f6c92bf4280>"
      ]
     },
     "execution_count": 49,
     "metadata": {},
     "output_type": "execute_result"
    }
   ],
   "source": [
    "pdDF = resultDF.toPandas()\n",
    "data = [\n",
    "      go.Bar(\n",
    "          x = pdDF['education'],\n",
    "          y = pdDF['count']\n",
    "      )  \n",
    "]\n",
    "layout = go.Layout(title=\"Term deposit opted count in each education level\")\n",
    "fig = go.Figure(data=data,layout=layout)\n",
    "py.iplot(fig)"
   ]
  },
  {
   "cell_type": "code",
   "execution_count": 50,
   "metadata": {
    "colab": {
     "base_uri": "https://localhost:8080/",
     "height": 206
    },
    "id": "PeR37_O9bvjS",
    "outputId": "988d3fed-ebf6-42cf-837b-b1c9adba41d6"
   },
   "outputs": [
    {
     "data": {
      "text/html": [
       "\n",
       "  <div id=\"df-05710d35-f915-463e-89fc-e4fc5c50bd1f\">\n",
       "    <div class=\"colab-df-container\">\n",
       "      <div>\n",
       "<style scoped>\n",
       "    .dataframe tbody tr th:only-of-type {\n",
       "        vertical-align: middle;\n",
       "    }\n",
       "\n",
       "    .dataframe tbody tr th {\n",
       "        vertical-align: top;\n",
       "    }\n",
       "\n",
       "    .dataframe thead th {\n",
       "        text-align: right;\n",
       "    }\n",
       "</style>\n",
       "<table border=\"1\" class=\"dataframe\">\n",
       "  <thead>\n",
       "    <tr style=\"text-align: right;\">\n",
       "      <th></th>\n",
       "      <th>age</th>\n",
       "      <th>job</th>\n",
       "      <th>maritalStatus</th>\n",
       "      <th>education</th>\n",
       "      <th>default</th>\n",
       "      <th>balance</th>\n",
       "      <th>housing</th>\n",
       "      <th>loan</th>\n",
       "      <th>contact</th>\n",
       "      <th>day</th>\n",
       "      <th>month</th>\n",
       "      <th>duration</th>\n",
       "      <th>campaign</th>\n",
       "      <th>pdays</th>\n",
       "      <th>previous</th>\n",
       "      <th>poutcome</th>\n",
       "      <th>opened_new_td_act_yes_no</th>\n",
       "    </tr>\n",
       "  </thead>\n",
       "  <tbody>\n",
       "    <tr>\n",
       "      <th>0</th>\n",
       "      <td>30</td>\n",
       "      <td>unemployed</td>\n",
       "      <td>married</td>\n",
       "      <td>primary</td>\n",
       "      <td>no</td>\n",
       "      <td>1787.0</td>\n",
       "      <td>no</td>\n",
       "      <td>no</td>\n",
       "      <td>cellular</td>\n",
       "      <td>19</td>\n",
       "      <td>oct</td>\n",
       "      <td>79.0</td>\n",
       "      <td>1.0</td>\n",
       "      <td>-1.0</td>\n",
       "      <td>0.0</td>\n",
       "      <td>unknown</td>\n",
       "      <td>no</td>\n",
       "    </tr>\n",
       "    <tr>\n",
       "      <th>1</th>\n",
       "      <td>33</td>\n",
       "      <td>services</td>\n",
       "      <td>married</td>\n",
       "      <td>secondary</td>\n",
       "      <td>no</td>\n",
       "      <td>4789.0</td>\n",
       "      <td>yes</td>\n",
       "      <td>yes</td>\n",
       "      <td>cellular</td>\n",
       "      <td>11</td>\n",
       "      <td>may</td>\n",
       "      <td>220.0</td>\n",
       "      <td>1.0</td>\n",
       "      <td>339.0</td>\n",
       "      <td>4.0</td>\n",
       "      <td>failure</td>\n",
       "      <td>no</td>\n",
       "    </tr>\n",
       "    <tr>\n",
       "      <th>2</th>\n",
       "      <td>35</td>\n",
       "      <td>management</td>\n",
       "      <td>single</td>\n",
       "      <td>tertiary</td>\n",
       "      <td>no</td>\n",
       "      <td>1350.0</td>\n",
       "      <td>yes</td>\n",
       "      <td>no</td>\n",
       "      <td>cellular</td>\n",
       "      <td>16</td>\n",
       "      <td>apr</td>\n",
       "      <td>185.0</td>\n",
       "      <td>1.0</td>\n",
       "      <td>330.0</td>\n",
       "      <td>1.0</td>\n",
       "      <td>failure</td>\n",
       "      <td>no</td>\n",
       "    </tr>\n",
       "    <tr>\n",
       "      <th>3</th>\n",
       "      <td>30</td>\n",
       "      <td>management</td>\n",
       "      <td>married</td>\n",
       "      <td>tertiary</td>\n",
       "      <td>no</td>\n",
       "      <td>1476.0</td>\n",
       "      <td>yes</td>\n",
       "      <td>yes</td>\n",
       "      <td>unknown</td>\n",
       "      <td>3</td>\n",
       "      <td>jun</td>\n",
       "      <td>199.0</td>\n",
       "      <td>4.0</td>\n",
       "      <td>-1.0</td>\n",
       "      <td>0.0</td>\n",
       "      <td>unknown</td>\n",
       "      <td>no</td>\n",
       "    </tr>\n",
       "    <tr>\n",
       "      <th>4</th>\n",
       "      <td>59</td>\n",
       "      <td>blue-collar</td>\n",
       "      <td>married</td>\n",
       "      <td>secondary</td>\n",
       "      <td>no</td>\n",
       "      <td>0.0</td>\n",
       "      <td>yes</td>\n",
       "      <td>no</td>\n",
       "      <td>unknown</td>\n",
       "      <td>5</td>\n",
       "      <td>may</td>\n",
       "      <td>226.0</td>\n",
       "      <td>1.0</td>\n",
       "      <td>-1.0</td>\n",
       "      <td>0.0</td>\n",
       "      <td>unknown</td>\n",
       "      <td>no</td>\n",
       "    </tr>\n",
       "  </tbody>\n",
       "</table>\n",
       "</div>\n",
       "      <button class=\"colab-df-convert\" onclick=\"convertToInteractive('df-05710d35-f915-463e-89fc-e4fc5c50bd1f')\"\n",
       "              title=\"Convert this dataframe to an interactive table.\"\n",
       "              style=\"display:none;\">\n",
       "        \n",
       "  <svg xmlns=\"http://www.w3.org/2000/svg\" height=\"24px\"viewBox=\"0 0 24 24\"\n",
       "       width=\"24px\">\n",
       "    <path d=\"M0 0h24v24H0V0z\" fill=\"none\"/>\n",
       "    <path d=\"M18.56 5.44l.94 2.06.94-2.06 2.06-.94-2.06-.94-.94-2.06-.94 2.06-2.06.94zm-11 1L8.5 8.5l.94-2.06 2.06-.94-2.06-.94L8.5 2.5l-.94 2.06-2.06.94zm10 10l.94 2.06.94-2.06 2.06-.94-2.06-.94-.94-2.06-.94 2.06-2.06.94z\"/><path d=\"M17.41 7.96l-1.37-1.37c-.4-.4-.92-.59-1.43-.59-.52 0-1.04.2-1.43.59L10.3 9.45l-7.72 7.72c-.78.78-.78 2.05 0 2.83L4 21.41c.39.39.9.59 1.41.59.51 0 1.02-.2 1.41-.59l7.78-7.78 2.81-2.81c.8-.78.8-2.07 0-2.86zM5.41 20L4 18.59l7.72-7.72 1.47 1.35L5.41 20z\"/>\n",
       "  </svg>\n",
       "      </button>\n",
       "      \n",
       "  <style>\n",
       "    .colab-df-container {\n",
       "      display:flex;\n",
       "      flex-wrap:wrap;\n",
       "      gap: 12px;\n",
       "    }\n",
       "\n",
       "    .colab-df-convert {\n",
       "      background-color: #E8F0FE;\n",
       "      border: none;\n",
       "      border-radius: 50%;\n",
       "      cursor: pointer;\n",
       "      display: none;\n",
       "      fill: #1967D2;\n",
       "      height: 32px;\n",
       "      padding: 0 0 0 0;\n",
       "      width: 32px;\n",
       "    }\n",
       "\n",
       "    .colab-df-convert:hover {\n",
       "      background-color: #E2EBFA;\n",
       "      box-shadow: 0px 1px 2px rgba(60, 64, 67, 0.3), 0px 1px 3px 1px rgba(60, 64, 67, 0.15);\n",
       "      fill: #174EA6;\n",
       "    }\n",
       "\n",
       "    [theme=dark] .colab-df-convert {\n",
       "      background-color: #3B4455;\n",
       "      fill: #D2E3FC;\n",
       "    }\n",
       "\n",
       "    [theme=dark] .colab-df-convert:hover {\n",
       "      background-color: #434B5C;\n",
       "      box-shadow: 0px 1px 3px 1px rgba(0, 0, 0, 0.15);\n",
       "      filter: drop-shadow(0px 1px 2px rgba(0, 0, 0, 0.3));\n",
       "      fill: #FFFFFF;\n",
       "    }\n",
       "  </style>\n",
       "\n",
       "      <script>\n",
       "        const buttonEl =\n",
       "          document.querySelector('#df-05710d35-f915-463e-89fc-e4fc5c50bd1f button.colab-df-convert');\n",
       "        buttonEl.style.display =\n",
       "          google.colab.kernel.accessAllowed ? 'block' : 'none';\n",
       "\n",
       "        async function convertToInteractive(key) {\n",
       "          const element = document.querySelector('#df-05710d35-f915-463e-89fc-e4fc5c50bd1f');\n",
       "          const dataTable =\n",
       "            await google.colab.kernel.invokeFunction('convertToInteractive',\n",
       "                                                     [key], {});\n",
       "          if (!dataTable) return;\n",
       "\n",
       "          const docLinkHtml = 'Like what you see? Visit the ' +\n",
       "            '<a target=\"_blank\" href=https://colab.research.google.com/notebooks/data_table.ipynb>data table notebook</a>'\n",
       "            + ' to learn more about interactive tables.';\n",
       "          element.innerHTML = '';\n",
       "          dataTable['output_type'] = 'display_data';\n",
       "          await google.colab.output.renderOutput(dataTable, element);\n",
       "          const docLink = document.createElement('div');\n",
       "          docLink.innerHTML = docLinkHtml;\n",
       "          element.appendChild(docLink);\n",
       "        }\n",
       "      </script>\n",
       "    </div>\n",
       "  </div>\n",
       "  "
      ],
      "text/plain": [
       "   age          job maritalStatus  education default  balance housing loan  \\\n",
       "0   30   unemployed       married    primary      no   1787.0      no   no   \n",
       "1   33     services       married  secondary      no   4789.0     yes  yes   \n",
       "2   35   management        single   tertiary      no   1350.0     yes   no   \n",
       "3   30   management       married   tertiary      no   1476.0     yes  yes   \n",
       "4   59  blue-collar       married  secondary      no      0.0     yes   no   \n",
       "\n",
       "    contact  day month  duration  campaign  pdays  previous poutcome  \\\n",
       "0  cellular   19   oct      79.0       1.0   -1.0       0.0  unknown   \n",
       "1  cellular   11   may     220.0       1.0  339.0       4.0  failure   \n",
       "2  cellular   16   apr     185.0       1.0  330.0       1.0  failure   \n",
       "3   unknown    3   jun     199.0       4.0   -1.0       0.0  unknown   \n",
       "4   unknown    5   may     226.0       1.0   -1.0       0.0  unknown   \n",
       "\n",
       "  opened_new_td_act_yes_no  \n",
       "0                       no  \n",
       "1                       no  \n",
       "2                       no  \n",
       "3                       no  \n",
       "4                       no  "
      ]
     },
     "execution_count": 50,
     "metadata": {},
     "output_type": "execute_result"
    }
   ],
   "source": [
    "bankDF_pd = bankDF.toPandas()\n",
    "bankDF_pd.head()"
   ]
  },
  {
   "cell_type": "code",
   "execution_count": 90,
   "metadata": {
    "colab": {
     "base_uri": "https://localhost:8080/",
     "height": 269
    },
    "id": "eLgVQwubbx4q",
    "outputId": "4a731539-9a20-4465-df78-6417e2de22ce"
   },
   "outputs": [
    {
     "data": {
      "text/html": [
       "\n",
       "  <div id=\"df-83d218e2-7c5f-4559-9576-ca986eaf0eea\">\n",
       "    <div class=\"colab-df-container\">\n",
       "      <div>\n",
       "<style scoped>\n",
       "    .dataframe tbody tr th:only-of-type {\n",
       "        vertical-align: middle;\n",
       "    }\n",
       "\n",
       "    .dataframe tbody tr th {\n",
       "        vertical-align: top;\n",
       "    }\n",
       "\n",
       "    .dataframe thead th {\n",
       "        text-align: right;\n",
       "    }\n",
       "</style>\n",
       "<table border=\"1\" class=\"dataframe\">\n",
       "  <thead>\n",
       "    <tr style=\"text-align: right;\">\n",
       "      <th></th>\n",
       "      <th>age</th>\n",
       "      <th>balance</th>\n",
       "      <th>day</th>\n",
       "      <th>duration</th>\n",
       "      <th>campaign</th>\n",
       "      <th>pdays</th>\n",
       "      <th>previous</th>\n",
       "    </tr>\n",
       "  </thead>\n",
       "  <tbody>\n",
       "    <tr>\n",
       "      <th>age</th>\n",
       "      <td>1.000000</td>\n",
       "      <td>0.084202</td>\n",
       "      <td>-0.017853</td>\n",
       "      <td>-0.002367</td>\n",
       "      <td>-0.005148</td>\n",
       "      <td>-0.008894</td>\n",
       "      <td>-0.003511</td>\n",
       "    </tr>\n",
       "    <tr>\n",
       "      <th>balance</th>\n",
       "      <td>0.084202</td>\n",
       "      <td>1.000000</td>\n",
       "      <td>-0.007595</td>\n",
       "      <td>-0.015195</td>\n",
       "      <td>-0.010840</td>\n",
       "      <td>0.008616</td>\n",
       "      <td>0.026031</td>\n",
       "    </tr>\n",
       "    <tr>\n",
       "      <th>day</th>\n",
       "      <td>-0.017853</td>\n",
       "      <td>-0.007595</td>\n",
       "      <td>1.000000</td>\n",
       "      <td>-0.024629</td>\n",
       "      <td>0.160706</td>\n",
       "      <td>-0.094352</td>\n",
       "      <td>-0.059114</td>\n",
       "    </tr>\n",
       "    <tr>\n",
       "      <th>duration</th>\n",
       "      <td>-0.002367</td>\n",
       "      <td>-0.015195</td>\n",
       "      <td>-0.024629</td>\n",
       "      <td>1.000000</td>\n",
       "      <td>-0.068382</td>\n",
       "      <td>0.010380</td>\n",
       "      <td>0.018080</td>\n",
       "    </tr>\n",
       "    <tr>\n",
       "      <th>campaign</th>\n",
       "      <td>-0.005148</td>\n",
       "      <td>-0.010840</td>\n",
       "      <td>0.160706</td>\n",
       "      <td>-0.068382</td>\n",
       "      <td>1.000000</td>\n",
       "      <td>-0.093137</td>\n",
       "      <td>-0.067833</td>\n",
       "    </tr>\n",
       "    <tr>\n",
       "      <th>pdays</th>\n",
       "      <td>-0.008894</td>\n",
       "      <td>0.008616</td>\n",
       "      <td>-0.094352</td>\n",
       "      <td>0.010380</td>\n",
       "      <td>-0.093137</td>\n",
       "      <td>1.000000</td>\n",
       "      <td>0.577562</td>\n",
       "    </tr>\n",
       "    <tr>\n",
       "      <th>previous</th>\n",
       "      <td>-0.003511</td>\n",
       "      <td>0.026031</td>\n",
       "      <td>-0.059114</td>\n",
       "      <td>0.018080</td>\n",
       "      <td>-0.067833</td>\n",
       "      <td>0.577562</td>\n",
       "      <td>1.000000</td>\n",
       "    </tr>\n",
       "  </tbody>\n",
       "</table>\n",
       "</div>\n",
       "      <button class=\"colab-df-convert\" onclick=\"convertToInteractive('df-83d218e2-7c5f-4559-9576-ca986eaf0eea')\"\n",
       "              title=\"Convert this dataframe to an interactive table.\"\n",
       "              style=\"display:none;\">\n",
       "        \n",
       "  <svg xmlns=\"http://www.w3.org/2000/svg\" height=\"24px\"viewBox=\"0 0 24 24\"\n",
       "       width=\"24px\">\n",
       "    <path d=\"M0 0h24v24H0V0z\" fill=\"none\"/>\n",
       "    <path d=\"M18.56 5.44l.94 2.06.94-2.06 2.06-.94-2.06-.94-.94-2.06-.94 2.06-2.06.94zm-11 1L8.5 8.5l.94-2.06 2.06-.94-2.06-.94L8.5 2.5l-.94 2.06-2.06.94zm10 10l.94 2.06.94-2.06 2.06-.94-2.06-.94-.94-2.06-.94 2.06-2.06.94z\"/><path d=\"M17.41 7.96l-1.37-1.37c-.4-.4-.92-.59-1.43-.59-.52 0-1.04.2-1.43.59L10.3 9.45l-7.72 7.72c-.78.78-.78 2.05 0 2.83L4 21.41c.39.39.9.59 1.41.59.51 0 1.02-.2 1.41-.59l7.78-7.78 2.81-2.81c.8-.78.8-2.07 0-2.86zM5.41 20L4 18.59l7.72-7.72 1.47 1.35L5.41 20z\"/>\n",
       "  </svg>\n",
       "      </button>\n",
       "      \n",
       "  <style>\n",
       "    .colab-df-container {\n",
       "      display:flex;\n",
       "      flex-wrap:wrap;\n",
       "      gap: 12px;\n",
       "    }\n",
       "\n",
       "    .colab-df-convert {\n",
       "      background-color: #E8F0FE;\n",
       "      border: none;\n",
       "      border-radius: 50%;\n",
       "      cursor: pointer;\n",
       "      display: none;\n",
       "      fill: #1967D2;\n",
       "      height: 32px;\n",
       "      padding: 0 0 0 0;\n",
       "      width: 32px;\n",
       "    }\n",
       "\n",
       "    .colab-df-convert:hover {\n",
       "      background-color: #E2EBFA;\n",
       "      box-shadow: 0px 1px 2px rgba(60, 64, 67, 0.3), 0px 1px 3px 1px rgba(60, 64, 67, 0.15);\n",
       "      fill: #174EA6;\n",
       "    }\n",
       "\n",
       "    [theme=dark] .colab-df-convert {\n",
       "      background-color: #3B4455;\n",
       "      fill: #D2E3FC;\n",
       "    }\n",
       "\n",
       "    [theme=dark] .colab-df-convert:hover {\n",
       "      background-color: #434B5C;\n",
       "      box-shadow: 0px 1px 3px 1px rgba(0, 0, 0, 0.15);\n",
       "      filter: drop-shadow(0px 1px 2px rgba(0, 0, 0, 0.3));\n",
       "      fill: #FFFFFF;\n",
       "    }\n",
       "  </style>\n",
       "\n",
       "      <script>\n",
       "        const buttonEl =\n",
       "          document.querySelector('#df-83d218e2-7c5f-4559-9576-ca986eaf0eea button.colab-df-convert');\n",
       "        buttonEl.style.display =\n",
       "          google.colab.kernel.accessAllowed ? 'block' : 'none';\n",
       "\n",
       "        async function convertToInteractive(key) {\n",
       "          const element = document.querySelector('#df-83d218e2-7c5f-4559-9576-ca986eaf0eea');\n",
       "          const dataTable =\n",
       "            await google.colab.kernel.invokeFunction('convertToInteractive',\n",
       "                                                     [key], {});\n",
       "          if (!dataTable) return;\n",
       "\n",
       "          const docLinkHtml = 'Like what you see? Visit the ' +\n",
       "            '<a target=\"_blank\" href=https://colab.research.google.com/notebooks/data_table.ipynb>data table notebook</a>'\n",
       "            + ' to learn more about interactive tables.';\n",
       "          element.innerHTML = '';\n",
       "          dataTable['output_type'] = 'display_data';\n",
       "          await google.colab.output.renderOutput(dataTable, element);\n",
       "          const docLink = document.createElement('div');\n",
       "          docLink.innerHTML = docLinkHtml;\n",
       "          element.appendChild(docLink);\n",
       "        }\n",
       "      </script>\n",
       "    </div>\n",
       "  </div>\n",
       "  "
      ],
      "text/plain": [
       "               age   balance       day  duration  campaign     pdays  previous\n",
       "age       1.000000  0.084202 -0.017853 -0.002367 -0.005148 -0.008894 -0.003511\n",
       "balance   0.084202  1.000000 -0.007595 -0.015195 -0.010840  0.008616  0.026031\n",
       "day      -0.017853 -0.007595  1.000000 -0.024629  0.160706 -0.094352 -0.059114\n",
       "duration -0.002367 -0.015195 -0.024629  1.000000 -0.068382  0.010380  0.018080\n",
       "campaign -0.005148 -0.010840  0.160706 -0.068382  1.000000 -0.093137 -0.067833\n",
       "pdays    -0.008894  0.008616 -0.094352  0.010380 -0.093137  1.000000  0.577562\n",
       "previous -0.003511  0.026031 -0.059114  0.018080 -0.067833  0.577562  1.000000"
      ]
     },
     "execution_count": 90,
     "metadata": {},
     "output_type": "execute_result"
    }
   ],
   "source": [
    "correlations = bankDF_pd.corr()\n",
    "correlations"
   ]
  },
  {
   "cell_type": "code",
   "execution_count": 52,
   "metadata": {
    "colab": {
     "base_uri": "https://localhost:8080/",
     "height": 547
    },
    "id": "sNmAhtSyb1t6",
    "outputId": "1a9c1238-e3c8-4e3f-b55c-1bad124a8c6c"
   },
   "outputs": [
    {
     "data": {
      "text/html": [
       "\n",
       "        <iframe\n",
       "            width=\"100%\"\n",
       "            height=\"525px\"\n",
       "            src=\"https://plotly.com/~rach_13/11.embed\"\n",
       "            frameborder=\"0\"\n",
       "            allowfullscreen\n",
       "        ></iframe>\n",
       "        "
      ],
      "text/plain": [
       "<IPython.lib.display.IFrame at 0x7f6c730edf70>"
      ]
     },
     "execution_count": 52,
     "metadata": {},
     "output_type": "execute_result"
    }
   ],
   "source": [
    "trace = go.Heatmap(z=[correlations['age'],correlations['balance'],\n",
    "                      correlations['day'],correlations['duration'],\n",
    "                      correlations['campaign'],\n",
    "                      correlations['pdays'],correlations['previous']],\n",
    "                   x = ['age','balance','day','duration','campaign','pdays','previous'],\n",
    "                   y = ['age','balance','day','duration','campaign','pdays','previous'])\n",
    "data = [trace]\n",
    "layout = go.Layout(title='HeatMap')\n",
    "fig = go.Figure(data=data,layout=layout)\n",
    "py.iplot(fig)"
   ]
  },
  {
   "cell_type": "code",
   "execution_count": 53,
   "metadata": {
    "colab": {
     "base_uri": "https://localhost:8080/"
    },
    "id": "G1ERCc7Qb4Bd",
    "outputId": "b7c596db-fd8c-422a-898c-8dd64a9d5110"
   },
   "outputs": [
    {
     "name": "stdout",
     "output_type": "stream",
     "text": [
      "+---+---+-------------+---------+-------+-------+-------+----+-------+---+-----+--------+--------+-----+--------+--------+------------------------+\n",
      "|age|job|maritalStatus|education|default|balance|housing|loan|contact|day|month|duration|campaign|pdays|previous|poutcome|opened_new_td_act_yes_no|\n",
      "+---+---+-------------+---------+-------+-------+-------+----+-------+---+-----+--------+--------+-----+--------+--------+------------------------+\n",
      "|  0|  0|            0|        0|      0|      0|      0|   0|      0|  0|    0|       0|       0|    0|       0|       0|                       0|\n",
      "+---+---+-------------+---------+-------+-------+-------+----+-------+---+-----+--------+--------+-----+--------+--------+------------------------+\n",
      "\n"
     ]
    }
   ],
   "source": [
    "bankDF.select([count(when(isnan(c) | col(c).isNull(),c).otherwise(None)).alias(c) for c in bankDF.columns]).show()"
   ]
  },
  {
   "cell_type": "code",
   "execution_count": 54,
   "metadata": {
    "colab": {
     "base_uri": "https://localhost:8080/"
    },
    "id": "B3HAK3Zxb67O",
    "outputId": "6f17069a-081c-4066-ffea-4ffa32c2bff8"
   },
   "outputs": [
    {
     "name": "stdout",
     "output_type": "stream",
     "text": [
      "Count of the  records in the datset before dropping null values  4521\n",
      "Count of the records in the dataset after dropping null values 4521\n"
     ]
    }
   ],
   "source": [
    "data_df = bankDF.na.drop(how=\"any\") #how = any --> any attribute is missing deal wih that val\n",
    "print(\"Count of the  records in the datset before dropping null values \", bankDF.count())\n",
    "print(\"Count of the records in the dataset after dropping null values\", data_df.count())"
   ]
  },
  {
   "cell_type": "code",
   "execution_count": 55,
   "metadata": {
    "id": "I3oNRMuGb84U"
   },
   "outputs": [],
   "source": [
    "(trainingData,testingData) = bankDF.randomSplit([0.7,0.3]) #randomsplit fr pd,,,, train_test_split fr normal data"
   ]
  },
  {
   "cell_type": "code",
   "execution_count": 56,
   "metadata": {
    "colab": {
     "base_uri": "https://localhost:8080/"
    },
    "id": "HBlih5-ycCoG",
    "outputId": "ee7f8b2a-a93a-4624-9bc0-c292c1ebf355"
   },
   "outputs": [
    {
     "name": "stdout",
     "output_type": "stream",
     "text": [
      "+---+-------+-------------+---------+-------+-------+-------+----+--------+---+-----+--------+--------+-----+--------+--------+------------------------+\n",
      "|age|    job|maritalStatus|education|default|balance|housing|loan| contact|day|month|duration|campaign|pdays|previous|poutcome|opened_new_td_act_yes_no|\n",
      "+---+-------+-------------+---------+-------+-------+-------+----+--------+---+-----+--------+--------+-----+--------+--------+------------------------+\n",
      "| 19|student|       single|  primary|     no|  103.0|     no|  no|cellular| 10|  jul|   104.0|     2.0| -1.0|     0.0| unknown|                     yes|\n",
      "| 19|student|       single|secondary|     no|  302.0|     no|  no|cellular| 16|  jul|   205.0|     1.0| -1.0|     0.0| unknown|                     yes|\n",
      "| 19|student|       single|  unknown|     no|    0.0|     no|  no|cellular| 11|  feb|   123.0|     3.0| -1.0|     0.0| unknown|                      no|\n",
      "| 20|student|       single|secondary|     no| 1191.0|     no|  no|cellular| 12|  feb|   274.0|     1.0| -1.0|     0.0| unknown|                      no|\n",
      "+---+-------+-------------+---------+-------+-------+-------+----+--------+---+-----+--------+--------+-----+--------+--------+------------------------+\n",
      "only showing top 4 rows\n",
      "\n"
     ]
    }
   ],
   "source": [
    "trainingData.show(4)"
   ]
  },
  {
   "cell_type": "code",
   "execution_count": null,
   "metadata": {
    "colab": {
     "base_uri": "https://localhost:8080/"
    },
    "id": "_L1oit_jcEtC",
    "outputId": "ae73c32d-c9e7-4eee-85b2-8ef48638a8a2"
   },
   "outputs": [
    {
     "name": "stdout",
     "output_type": "stream",
     "text": [
      "+---+--------+-------------+---------+-------+-------+-------+----+---------+---+-----+--------+--------+-----+--------+--------+------------------------+\n",
      "|age|     job|maritalStatus|education|default|balance|housing|loan|  contact|day|month|duration|campaign|pdays|previous|poutcome|opened_new_td_act_yes_no|\n",
      "+---+--------+-------------+---------+-------+-------+-------+----+---------+---+-----+--------+--------+-----+--------+--------+------------------------+\n",
      "| 19| student|       single|  primary|     no|  103.0|     no|  no| cellular| 10|  jul|   104.0|     2.0| -1.0|     0.0| unknown|                     yes|\n",
      "| 19| student|       single|  unknown|     no|    0.0|     no|  no| cellular| 11|  feb|   123.0|     3.0| -1.0|     0.0| unknown|                      no|\n",
      "| 20| student|       single|secondary|     no|  291.0|     no|  no|telephone| 11|  may|   172.0|     5.0|371.0|     5.0| failure|                      no|\n",
      "| 21|services|       single|secondary|     no| 1903.0|    yes|  no|  unknown| 29|  may|   107.0|     2.0| -1.0|     0.0| unknown|                      no|\n",
      "+---+--------+-------------+---------+-------+-------+-------+----+---------+---+-----+--------+--------+-----+--------+--------+------------------------+\n",
      "only showing top 4 rows\n",
      "\n"
     ]
    }
   ],
   "source": [
    "testingData.show(4)"
   ]
  },
  {
   "cell_type": "code",
   "execution_count": 57,
   "metadata": {
    "id": "qgEVU-DwcG22"
   },
   "outputs": [],
   "source": [
    "cat_Var_names = ['job','maritalStatus','education','default','housing','day','contact','month','poutcome']\n",
    "num_var_names = ['age','balance','duration','previous','pdays','campaign']"
   ]
  },
  {
   "cell_type": "markdown",
   "metadata": {
    "id": "otwaEV533Cfq"
   },
   "source": []
  },
  {
   "cell_type": "code",
   "execution_count": null,
   "metadata": {
    "id": "pxRG0fON1OJB"
   },
   "outputs": [],
   "source": [
    "#Building pipeline... using op of prev n use it further."
   ]
  },
  {
   "cell_type": "code",
   "execution_count": 91,
   "metadata": {
    "id": "4TqW7CbFcLn4"
   },
   "outputs": [],
   "source": [
    "from pyspark.ml.feature import VectorAssembler #VectorAssembler takes row wise values and take it as a vector.\n",
    "vector_assembler_numVars = VectorAssembler(inputCols=num_var_names , outputCol=\"num_features_all\")"
   ]
  },
  {
   "cell_type": "code",
   "execution_count": 92,
   "metadata": {
    "id": "iZND1xjecNlZ"
   },
   "outputs": [],
   "source": [
    "from pyspark.ml.feature import MinMaxScaler\n",
    "min_max_Scalar_NumVars = MinMaxScaler(inputCol=\"num_features_all\",outputCol=\"scaled_num_features\")"
   ]
  },
  {
   "cell_type": "code",
   "execution_count": 98,
   "metadata": {
    "id": "Nsgh43yb20Yu"
   },
   "outputs": [],
   "source": [
    "#numerical-- vector assemble and minmax scaler\n",
    "#categorical - stringindexing(label enc in py) and onehot enc \n",
    "#At the end merge everything using vector assembler"
   ]
  },
  {
   "cell_type": "code",
   "execution_count": 99,
   "metadata": {
    "id": "0liFW1sbcPny"
   },
   "outputs": [],
   "source": [
    "#onehot - others (ordinal/norminal) -independent\n",
    "#lable enc - nly fr target - dependent\n",
    "from pyspark.ml.feature import StringIndexer, OneHotEncoder\n",
    "indexers_Cat = [StringIndexer(inputCol=cat_var_name,outputCol=\"{0}_index\".format(cat_var_name))\n",
    "                for cat_var_name in cat_Var_names]\n",
    "\n",
    "encoders_Cat = [OneHotEncoder(inputCol=indexer.getOutputCol(),outputCol=\"{0}_vec\".format(indexer.getInputCol())) for indexer in indexers_Cat]\n",
    "\n",
    "assembler_Cat = VectorAssembler(inputCols=[encoder.getOutputCol() for encoder in encoders_Cat],outputCol=\"cat_features\")\n",
    "assembler = VectorAssembler(inputCols=[\"scaled_num_features\",\"cat_features\"],outputCol=\"features\")"
   ]
  },
  {
   "cell_type": "code",
   "execution_count": 100,
   "metadata": {
    "id": "74PnMRpAcTBD"
   },
   "outputs": [],
   "source": [
    "indexer_Label = StringIndexer(inputCol=\"opened_new_td_act_yes_no\",outputCol=\"label\")"
   ]
  },
  {
   "cell_type": "code",
   "execution_count": 101,
   "metadata": {
    "id": "Hrk2HW2VcWQk"
   },
   "outputs": [],
   "source": [
    "preprocessingStages = [vector_assembler_numVars] + [min_max_Scalar_NumVars] + indexers_Cat + encoders_Cat + [assembler_Cat] + [assembler] + [indexer_Label]"
   ]
  },
  {
   "cell_type": "code",
   "execution_count": 102,
   "metadata": {
    "colab": {
     "base_uri": "https://localhost:8080/"
    },
    "id": "VQ0pzhVMcYPy",
    "outputId": "796f87d4-16f1-4fba-8d4e-9af2250e8652"
   },
   "outputs": [
    {
     "data": {
      "text/plain": [
       "list"
      ]
     },
     "execution_count": 102,
     "metadata": {},
     "output_type": "execute_result"
    }
   ],
   "source": [
    "type(preprocessingStages)"
   ]
  },
  {
   "cell_type": "code",
   "execution_count": 103,
   "metadata": {
    "colab": {
     "base_uri": "https://localhost:8080/"
    },
    "id": "HQjc1uHKca4o",
    "outputId": "c8aff25e-b6b8-4659-b0ec-290a2f3701e2"
   },
   "outputs": [
    {
     "data": {
      "text/plain": [
       "[VectorAssembler_564049b2586b,\n",
       " MinMaxScaler_08e05e25adf9,\n",
       " StringIndexer_66171a758dc1,\n",
       " StringIndexer_7db7b23f93d2,\n",
       " StringIndexer_6d2e4613a590,\n",
       " StringIndexer_18ecd88e2f21,\n",
       " StringIndexer_701b7b85f2e0,\n",
       " StringIndexer_44a95c22b5af,\n",
       " StringIndexer_acc8fa1cba42,\n",
       " StringIndexer_55f75643c0df,\n",
       " StringIndexer_c4cbe0841a7e,\n",
       " OneHotEncoder_18363b67cf43,\n",
       " OneHotEncoder_d62590bd3af6,\n",
       " OneHotEncoder_6d400289eb99,\n",
       " OneHotEncoder_b2da869108ca,\n",
       " OneHotEncoder_24b9144bc240,\n",
       " OneHotEncoder_af193c4d9d52,\n",
       " OneHotEncoder_9a672dbb26c8,\n",
       " OneHotEncoder_4ece83983318,\n",
       " OneHotEncoder_9542dbb0900d,\n",
       " VectorAssembler_e32f80f6c1f0,\n",
       " VectorAssembler_5cdebc696090,\n",
       " StringIndexer_94f1ae76248b]"
      ]
     },
     "execution_count": 103,
     "metadata": {},
     "output_type": "execute_result"
    }
   ],
   "source": [
    "preprocessingStages\n",
    "#All pipelile operations done previously in a list.\n",
    "#[vector_assembler_numVars] + [min_max_Scalar_NumVars] + indexers_Cat + encoders_Cat + [assembler_Cat] + [assembler] + [indexer_Label]"
   ]
  },
  {
   "cell_type": "code",
   "execution_count": 106,
   "metadata": {
    "id": "DuLOnKEpcdCx"
   },
   "outputs": [],
   "source": [
    "#Perform Logistic Regression.\n",
    "from pyspark.ml.classification import LogisticRegression\n",
    "lr =  LogisticRegression(maxIter=10,labelCol=\"label\",featuresCol=\"features\")\n",
    "from pyspark.ml import Pipeline\n",
    "lr_pipeline = Pipeline(stages=preprocessingStages+[lr])\n",
    "lr_pipeline_model = lr_pipeline.fit(trainingData)"
   ]
  },
  {
   "cell_type": "code",
   "execution_count": 107,
   "metadata": {
    "colab": {
     "base_uri": "https://localhost:8080/"
    },
    "id": "J-uCayYlFSbC",
    "outputId": "a51204d7-6673-4ab8-ba13-d2f0dae0714d"
   },
   "outputs": [
    {
     "data": {
      "text/plain": [
       "[VectorAssembler_564049b2586b,\n",
       " MinMaxScalerModel: uid=MinMaxScaler_08e05e25adf9, numFeatures=6, min=0.0, max=1.0,\n",
       " StringIndexerModel: uid=StringIndexer_66171a758dc1, handleInvalid=error,\n",
       " StringIndexerModel: uid=StringIndexer_7db7b23f93d2, handleInvalid=error,\n",
       " StringIndexerModel: uid=StringIndexer_6d2e4613a590, handleInvalid=error,\n",
       " StringIndexerModel: uid=StringIndexer_18ecd88e2f21, handleInvalid=error,\n",
       " StringIndexerModel: uid=StringIndexer_701b7b85f2e0, handleInvalid=error,\n",
       " StringIndexerModel: uid=StringIndexer_44a95c22b5af, handleInvalid=error,\n",
       " StringIndexerModel: uid=StringIndexer_acc8fa1cba42, handleInvalid=error,\n",
       " StringIndexerModel: uid=StringIndexer_55f75643c0df, handleInvalid=error,\n",
       " StringIndexerModel: uid=StringIndexer_c4cbe0841a7e, handleInvalid=error,\n",
       " OneHotEncoderModel: uid=OneHotEncoder_18363b67cf43, dropLast=true, handleInvalid=error,\n",
       " OneHotEncoderModel: uid=OneHotEncoder_d62590bd3af6, dropLast=true, handleInvalid=error,\n",
       " OneHotEncoderModel: uid=OneHotEncoder_6d400289eb99, dropLast=true, handleInvalid=error,\n",
       " OneHotEncoderModel: uid=OneHotEncoder_b2da869108ca, dropLast=true, handleInvalid=error,\n",
       " OneHotEncoderModel: uid=OneHotEncoder_24b9144bc240, dropLast=true, handleInvalid=error,\n",
       " OneHotEncoderModel: uid=OneHotEncoder_af193c4d9d52, dropLast=true, handleInvalid=error,\n",
       " OneHotEncoderModel: uid=OneHotEncoder_9a672dbb26c8, dropLast=true, handleInvalid=error,\n",
       " OneHotEncoderModel: uid=OneHotEncoder_4ece83983318, dropLast=true, handleInvalid=error,\n",
       " OneHotEncoderModel: uid=OneHotEncoder_9542dbb0900d, dropLast=true, handleInvalid=error,\n",
       " VectorAssembler_e32f80f6c1f0,\n",
       " VectorAssembler_5cdebc696090,\n",
       " StringIndexerModel: uid=StringIndexer_94f1ae76248b, handleInvalid=error,\n",
       " LogisticRegressionModel: uid=LogisticRegression_202348b7a3a2, numClasses=2, numFeatures=70]"
      ]
     },
     "execution_count": 107,
     "metadata": {},
     "output_type": "execute_result"
    }
   ],
   "source": [
    "lr_pipeline_model.stages #handleInvalid=error --> if any invalid attribute.. ill get an error."
   ]
  },
  {
   "cell_type": "code",
   "execution_count": 108,
   "metadata": {
    "colab": {
     "base_uri": "https://localhost:8080/"
    },
    "id": "sGXupqvCtr1l",
    "outputId": "1cab5539-a92a-42c3-d2f9-3915919f15eb"
   },
   "outputs": [
    {
     "data": {
      "text/plain": [
       "DenseVector([0.3381, 0.1865, 12.9016, 0.4801, 0.8698, -2.5782, -0.2791, 0.1874, 0.0661, 0.1271, -0.3318, 0.5973, -0.1987, -0.5201, -0.5422, -0.2254, 0.588, -0.2831, -0.0053, -0.105, 0.184, -0.0807, -0.7901, -0.4353, -0.5637, 0.3999, -0.7422, -0.1052, -0.4321, -0.2587, 0.3137, 0.0395, -0.3826, 0.3167, -0.2928, -0.5488, 0.3536, -0.1412, 0.1685, -0.1358, 0.2516, -0.0148, -0.1419, 0.6561, 0.0167, -0.2213, 0.4148, 0.1149, -0.1247, 0.6219, -0.1222, 0.4334, 0.6335, 0.4297, 0.3453, -0.6269, -0.5507, -0.348, -0.0995, 0.3501, -0.2138, 0.6009, 0.4812, -0.3387, 2.1278, 2.2268, 1.3717, -0.835, -0.9596, -0.3478])"
      ]
     },
     "execution_count": 108,
     "metadata": {},
     "output_type": "execute_result"
    }
   ],
   "source": [
    "lr_pipeline_model.stages[-1].coefficients #-1 --> nly last stage of pipeline (LR) will gve coeff to the attribute."
   ]
  },
  {
   "cell_type": "code",
   "execution_count": 109,
   "metadata": {
    "colab": {
     "base_uri": "https://localhost:8080/"
    },
    "id": "ap4xAjS4uLrh",
    "outputId": "a1c8a3f4-5856-4f39-cbe1-b2a1e0898c51"
   },
   "outputs": [
    {
     "data": {
      "text/plain": [
       "-2.1424616544462314"
      ]
     },
     "execution_count": 109,
     "metadata": {},
     "output_type": "execute_result"
    }
   ],
   "source": [
    "lr_pipeline_model.stages[-1].intercept"
   ]
  },
  {
   "cell_type": "code",
   "execution_count": 110,
   "metadata": {
    "id": "2_IbcEBhuOaG"
   },
   "outputs": [],
   "source": [
    "train_predictions_lr = lr_pipeline_model.transform(trainingData)"
   ]
  },
  {
   "cell_type": "code",
   "execution_count": 112,
   "metadata": {
    "colab": {
     "base_uri": "https://localhost:8080/"
    },
    "id": "uBjavKmZuRH8",
    "outputId": "5726e7c3-ec6c-48ec-b0e8-cd62190ec4de"
   },
   "outputs": [
    {
     "name": "stdout",
     "output_type": "stream",
     "text": [
      "+------------------------------------------------------------------------------------------------------------------------------------------------------------------------------------------------------+\n",
      "|features                                                                                                                                                                                              |\n",
      "+------------------------------------------------------------------------------------------------------------------------------------------------------------------------------------------------------+\n",
      "|(70,[1,2,5,16,18,21,22,52,54,57,67],[0.00144687306849469,0.03616636528028933,0.023255813953488372,1.0,1.0,1.0,1.0,1.0,1.0,1.0,1.0])                                                                   |\n",
      "|(70,[1,2,16,18,19,22,41,54,57,67],[0.00424228802607181,0.07269439421338156,1.0,1.0,1.0,1.0,1.0,1.0,1.0,1.0])                                                                                          |\n",
      "|(70,[2,5,16,18,22,37,54,62,67],[0.043037974683544304,0.046511627906976744,1.0,1.0,1.0,1.0,1.0,1.0,1.0])                                                                                               |\n",
      "|(70,[0,1,2,16,18,19,22,43,54,62,67],[0.015384615384615385,0.016730347811428892,0.09764918625678119,1.0,1.0,1.0,1.0,1.0,1.0,1.0,1.0])                                                                  |\n",
      "|(70,[0,1,2,5,10,18,19,22,23,32,55,56,67],[0.03076923076923077,0.026732033488790243,0.03725135623869801,0.023255813953488372,1.0,1.0,1.0,1.0,1.0,1.0,1.0,1.0,1.0])                                     |\n",
      "|(70,[0,1,2,16,18,19,22,24,55,58,67],[0.03076923076923077,0.009566219025678484,7.233273056057866E-4,1.0,1.0,1.0,1.0,1.0,1.0,1.0,1.0])                                                                  |\n",
      "|(70,[0,1,2,3,4,5,16,18,19,22,40,54,59],[0.03076923076923077,0.0349497106253863,0.0918625678119349,0.125,0.19495412844036697,0.11627906976744186,1.0,1.0,1.0,1.0,1.0,1.0,1.0])                         |\n",
      "|(70,[0,1,2,3,4,5,16,18,19,22,27,54,58,69],[0.03076923076923077,0.09613979884250154,0.044122965641952984,0.29166666666666663,0.14678899082568808,0.046511627906976744,1.0,1.0,1.0,1.0,1.0,1.0,1.0,1.0])|\n",
      "|(70,[0,1,2,5,16,18,22,23,43,55,56,67],[0.03076923076923077,0.0019244816542113839,0.0701627486437613,0.046511627906976744,1.0,1.0,1.0,1.0,1.0,1.0,1.0,1.0])                                            |\n",
      "|(70,[0,1,2,3,4,16,18,21,22,24,54,64,68],[0.046153846153846156,0.0487722649884812,0.118625678119349,0.125,0.21100917431192662,1.0,1.0,1.0,1.0,1.0,1.0,1.0,1.0])                                        |\n",
      "|(70,[0,1,2,5,16,18,22,45,54,57,67],[0.046153846153846156,6.602236331966062E-4,0.023508137432188065,0.046511627906976744,1.0,1.0,1.0,1.0,1.0,1.0,1.0])                                                 |\n",
      "|(70,[0,1,2,16,18,22,44,54,66,67],[0.046153846153846156,0.007711973928190144,0.054249547920433995,1.0,1.0,1.0,1.0,1.0,1.0,1.0])                                                                        |\n",
      "|(70,[0,1,2,8,18,19,22,43,60,67],[0.046153846153846156,0.004677754677754677,0.045207956600361664,1.0,1.0,1.0,1.0,1.0,1.0,1.0])                                                                         |\n",
      "|(70,[0,1,2,9,18,19,22,23,28,54,56,67],[0.06153846153846154,0.00827386638197449,0.020976491862567812,1.0,1.0,1.0,1.0,1.0,1.0,1.0,1.0,1.0])                                                             |\n",
      "|(70,[0,1,2,3,4,6,18,21,22,23,33,54,56,68],[0.06153846153846154,0.12118615496993874,0.059674502712477394,0.041666666666666664,0.3979357798165138,1.0,1.0,1.0,1.0,1.0,1.0,1.0,1.0,1.0])                 |\n",
      "|(70,[0,1,2,6,18,21,22,23,45,55,59,67],[0.06153846153846154,0.12118615496993874,0.10018083182640145,1.0,1.0,1.0,1.0,1.0,1.0,1.0,1.0,1.0])                                                              |\n",
      "|(70,[0,1,2,6,18,22,23,25,54,56,67],[0.06153846153846154,0.01147665336854526,0.043037974683544304,1.0,1.0,1.0,1.0,1.0,1.0,1.0,1.0])                                                                    |\n",
      "|(70,[0,2,5,10,17,19,22,23,24,55,59,67],[0.06153846153846154,0.0032549728752260397,0.20930232558139533,1.0,1.0,1.0,1.0,1.0,1.0,1.0,1.0,1.0])                                                           |\n",
      "|(70,[0,1,2,10,18,19,22,23,25,54,56,67],[0.06153846153846154,0.0035118278361521604,0.07884267631103074,1.0,1.0,1.0,1.0,1.0,1.0,1.0,1.0,1.0])                                                           |\n",
      "|(70,[0,1,2,5,10,18,19,22,23,42,55,59,67],[0.06153846153846154,0.007023655672304321,0.038698010849909585,0.046511627906976744,1.0,1.0,1.0,1.0,1.0,1.0,1.0,1.0,1.0])                                    |\n",
      "+------------------------------------------------------------------------------------------------------------------------------------------------------------------------------------------------------+\n",
      "only showing top 20 rows\n",
      "\n"
     ]
    }
   ],
   "source": [
    "train_predictions_lr.select('features').show(truncate=False)"
   ]
  },
  {
   "cell_type": "code",
   "execution_count": 113,
   "metadata": {
    "id": "rluCmhEc-NVf"
   },
   "outputs": [],
   "source": [
    "#Above we cn see vector of the attributes\n",
    "#[1,2,5,16,18,21,22,52,54,57,67],[0.00144687306849469,0.03616636528028933,0.023255813953488372,1.0,1.0,1.0,1.0,1.0,1.0,1.0,1.0]) "
   ]
  },
  {
   "cell_type": "code",
   "execution_count": 114,
   "metadata": {
    "colab": {
     "base_uri": "https://localhost:8080/"
    },
    "id": "mCtLSARjuT75",
    "outputId": "8989cb1f-cfea-4818-c3c2-3437e3af3428"
   },
   "outputs": [
    {
     "name": "stdout",
     "output_type": "stream",
     "text": [
      "+---+-----------+-------------+---------+-------+-------+-------+----+---------+---+-----+--------+--------+-----+--------+--------+------------------------+--------------------+--------------------+---------+-------------------+---------------+-------------+-------------+---------+-------------+-----------+--------------+---------------+-----------------+-------------+-------------+-------------+---------------+-------------+---------------+-------------+--------------------+--------------------+-----+--------------------+--------------------+----------+\n",
      "|age|        job|maritalStatus|education|default|balance|housing|loan|  contact|day|month|duration|campaign|pdays|previous|poutcome|opened_new_td_act_yes_no|    num_features_all| scaled_num_features|job_index|maritalStatus_index|education_index|default_index|housing_index|day_index|contact_index|month_index|poutcome_index|        job_vec|maritalStatus_vec|education_vec|  default_vec|  housing_vec|        day_vec|  contact_vec|      month_vec| poutcome_vec|        cat_features|            features|label|       rawPrediction|         probability|prediction|\n",
      "+---+-----------+-------------+---------+-------+-------+-------+----+---------+---+-----+--------+--------+-----+--------+--------+------------------------+--------------------+--------------------+---------+-------------------+---------------+-------------+-------------+---------+-------------+-----------+--------------+---------------+-----------------+-------------+-------------+-------------+---------------+-------------+---------------+-------------+--------------------+--------------------+-----+--------------------+--------------------+----------+\n",
      "| 19|    student|       single|  primary|     no|  103.0|     no|  no| cellular| 10|  jul|   104.0|     2.0| -1.0|     0.0| unknown|                     yes|[19.0,103.0,104.0...|[0.0,0.0014468730...|     10.0|                1.0|            2.0|          0.0|          1.0|     28.0|          0.0|        1.0|           0.0|(11,[10],[1.0])|    (2,[1],[1.0])|(3,[2],[1.0])|(1,[0],[1.0])|    (1,[],[])|(30,[28],[1.0])|(2,[0],[1.0])| (11,[1],[1.0])|(3,[0],[1.0])|(64,[10,12,15,16,...|(70,[1,2,5,16,18,...|  1.0|[2.22790001544484...|[0.90272711342631...|       0.0|\n",
      "| 19|    student|       single|secondary|     no|  302.0|     no|  no| cellular| 16|  jul|   205.0|     1.0| -1.0|     0.0| unknown|                     yes|[19.0,302.0,205.0...|(6,[1,2],[0.00424...|     10.0|                1.0|            0.0|          0.0|          1.0|     17.0|          0.0|        1.0|           0.0|(11,[10],[1.0])|    (2,[1],[1.0])|(3,[0],[1.0])|(1,[0],[1.0])|    (1,[],[])|(30,[17],[1.0])|(2,[0],[1.0])| (11,[1],[1.0])|(3,[0],[1.0])|(64,[10,12,13,16,...|(70,[1,2,16,18,19...|  1.0|[2.36882795335725...|[0.91441918455566...|       0.0|\n",
      "| 19|    student|       single|  unknown|     no|    0.0|     no|  no| cellular| 11|  feb|   123.0|     3.0| -1.0|     0.0| unknown|                      no|[19.0,0.0,123.0,0...|(6,[2,5],[0.04303...|     10.0|                1.0|            3.0|          0.0|          1.0|     13.0|          0.0|        6.0|           0.0|(11,[10],[1.0])|    (2,[1],[1.0])|    (3,[],[])|(1,[0],[1.0])|    (1,[],[])|(30,[13],[1.0])|(2,[0],[1.0])| (11,[6],[1.0])|(3,[0],[1.0])|(64,[10,12,16,31,...|(70,[2,5,16,18,22...|  0.0|[2.06423193739959...|[0.88737779700436...|       0.0|\n",
      "| 20|    student|       single|secondary|     no| 1191.0|     no|  no| cellular| 12|  feb|   274.0|     1.0| -1.0|     0.0| unknown|                      no|[20.0,1191.0,274....|[0.01538461538461...|     10.0|                1.0|            0.0|          0.0|          1.0|     19.0|          0.0|        6.0|           0.0|(11,[10],[1.0])|    (2,[1],[1.0])|(3,[0],[1.0])|(1,[0],[1.0])|    (1,[],[])|(30,[19],[1.0])|(2,[0],[1.0])| (11,[6],[1.0])|(3,[0],[1.0])|(64,[10,12,13,16,...|(70,[0,1,2,16,18,...|  0.0|[0.53921157664459...|[0.63162899131655...|       0.0|\n",
      "| 21|   services|       single|secondary|     no| 1903.0|    yes|  no|  unknown| 29|  may|   107.0|     2.0| -1.0|     0.0| unknown|                      no|[21.0,1903.0,107....|[0.03076923076923...|      4.0|                1.0|            0.0|          0.0|          0.0|      8.0|          1.0|        0.0|           0.0| (11,[4],[1.0])|    (2,[1],[1.0])|(3,[0],[1.0])|(1,[0],[1.0])|(1,[0],[1.0])| (30,[8],[1.0])|(2,[1],[1.0])| (11,[0],[1.0])|(3,[0],[1.0])|(64,[4,12,13,16,1...|(70,[0,1,2,5,10,1...|  0.0|[5.7691739787022,...|[0.99688738306961...|       0.0|\n",
      "| 21|    student|       single|secondary|     no|  681.0|     no|  no|  unknown| 20|  aug|     6.0|     1.0| -1.0|     0.0| unknown|                      no|[21.0,681.0,6.0,0...|[0.03076923076923...|     10.0|                1.0|            0.0|          0.0|          1.0|      0.0|          1.0|        2.0|           0.0|(11,[10],[1.0])|    (2,[1],[1.0])|(3,[0],[1.0])|(1,[0],[1.0])|    (1,[],[])| (30,[0],[1.0])|(2,[1],[1.0])| (11,[2],[1.0])|(3,[0],[1.0])|(64,[10,12,13,16,...|(70,[0,1,2,16,18,...|  0.0|[4.55846524336224...|[0.98963052470358...|       0.0|\n",
      "| 21|    student|       single|secondary|     no| 2488.0|     no|  no| cellular| 30|  jun|   258.0|     6.0|169.0|     3.0| success|                     yes|[21.0,2488.0,258....|[0.03076923076923...|     10.0|                1.0|            0.0|          0.0|          1.0|     16.0|          0.0|        3.0|           3.0|(11,[10],[1.0])|    (2,[1],[1.0])|(3,[0],[1.0])|(1,[0],[1.0])|    (1,[],[])|(30,[16],[1.0])|(2,[0],[1.0])| (11,[3],[1.0])|    (3,[],[])|(64,[10,12,13,16,...|(70,[0,1,2,3,4,5,...|  1.0|[0.37601237504656...|[0.59291097740447...|       0.0|\n",
      "| 21|    student|       single|secondary|     no| 6844.0|     no|  no| cellular| 14|  aug|   126.0|     3.0|127.0|     7.0|   other|                      no|[21.0,6844.0,126....|[0.03076923076923...|     10.0|                1.0|            0.0|          0.0|          1.0|      3.0|          0.0|        2.0|           2.0|(11,[10],[1.0])|    (2,[1],[1.0])|(3,[0],[1.0])|(1,[0],[1.0])|    (1,[],[])| (30,[3],[1.0])|(2,[0],[1.0])| (11,[2],[1.0])|(3,[2],[1.0])|(64,[10,12,13,16,...|(70,[0,1,2,3,4,5,...|  0.0|[1.91671314885043...|[0.87177145855385...|       0.0|\n",
      "| 21|    student|       single|  unknown|     no|  137.0|    yes|  no|  unknown| 12|  may|   198.0|     3.0| -1.0|     0.0| unknown|                      no|[21.0,137.0,198.0...|[0.03076923076923...|     10.0|                1.0|            3.0|          0.0|          0.0|     19.0|          1.0|        0.0|           0.0|(11,[10],[1.0])|    (2,[1],[1.0])|    (3,[],[])|(1,[0],[1.0])|(1,[0],[1.0])|(30,[19],[1.0])|(2,[1],[1.0])| (11,[0],[1.0])|(3,[0],[1.0])|(64,[10,12,16,17,...|(70,[0,1,2,5,16,1...|  0.0|[3.34563977496079...|[0.96596176414098...|       0.0|\n",
      "| 22|    student|       single|  primary|     no| 3472.0|     no|  no| cellular| 20|  oct|   332.0|     1.0|183.0|     3.0| failure|                     yes|[22.0,3472.0,332....|[0.04615384615384...|     10.0|                1.0|            2.0|          0.0|          1.0|      0.0|          0.0|        8.0|           1.0|(11,[10],[1.0])|    (2,[1],[1.0])|(3,[2],[1.0])|(1,[0],[1.0])|    (1,[],[])| (30,[0],[1.0])|(2,[0],[1.0])| (11,[8],[1.0])|(3,[1],[1.0])|(64,[10,12,15,16,...|(70,[0,1,2,3,4,16...|  1.0|[-0.3179476633908...|[0.42117599927538...|       1.0|\n",
      "| 22|    student|       single|  unknown|     no|   47.0|     no|  no| cellular|  3|  jul|    69.0|     3.0| -1.0|     0.0| unknown|                      no|[22.0,47.0,69.0,0...|[0.04615384615384...|     10.0|                1.0|            3.0|          0.0|          1.0|     21.0|          0.0|        1.0|           0.0|(11,[10],[1.0])|    (2,[1],[1.0])|    (3,[],[])|(1,[0],[1.0])|    (1,[],[])|(30,[21],[1.0])|(2,[0],[1.0])| (11,[1],[1.0])|(3,[0],[1.0])|(64,[10,12,16,39,...|(70,[0,1,2,5,16,1...|  0.0|[3.20979882612293...|[0.96120136379765...|       0.0|\n",
      "| 22|    student|       single|  unknown|     no|  549.0|     no|  no| cellular|  2|  sep|   154.0|     1.0| -1.0|     0.0| unknown|                      no|[22.0,549.0,154.0...|[0.04615384615384...|     10.0|                1.0|            3.0|          0.0|          1.0|     20.0|          0.0|       10.0|           0.0|(11,[10],[1.0])|    (2,[1],[1.0])|    (3,[],[])|(1,[0],[1.0])|    (1,[],[])|(30,[20],[1.0])|(2,[0],[1.0])|(11,[10],[1.0])|(3,[0],[1.0])|(64,[10,12,16,38,...|(70,[0,1,2,16,18,...|  0.0|[0.73426028632739...|[0.67573946596599...|       0.0|\n",
      "| 22| technician|       single|secondary|     no|  333.0|     no| yes|telephone| 12|  nov|   129.0|     1.0| -1.0|     0.0| unknown|                      no|[22.0,333.0,129.0...|[0.04615384615384...|      2.0|                1.0|            0.0|          0.0|          1.0|     19.0|          2.0|        4.0|           0.0| (11,[2],[1.0])|    (2,[1],[1.0])|(3,[0],[1.0])|(1,[0],[1.0])|    (1,[],[])|(30,[19],[1.0])|    (2,[],[])| (11,[4],[1.0])|(3,[0],[1.0])|(64,[2,12,13,16,3...|(70,[0,1,2,8,18,1...|  0.0|[2.76975636402734...|[0.94101946574552...|       0.0|\n",
      "| 23|     admin.|       single|secondary|     no|  589.0|    yes|  no| cellular|  6|  may|    62.0|     1.0| -1.0|     0.0| unknown|                      no|[23.0,589.0,62.0,...|[0.06153846153846...|      3.0|                1.0|            0.0|          0.0|          0.0|      4.0|          0.0|        0.0|           0.0| (11,[3],[1.0])|    (2,[1],[1.0])|(3,[0],[1.0])|(1,[0],[1.0])|(1,[0],[1.0])| (30,[4],[1.0])|(2,[0],[1.0])| (11,[0],[1.0])|(3,[0],[1.0])|(64,[3,12,13,16,1...|(70,[0,1,2,9,18,1...|  0.0|[4.53077771868209...|[0.98934251062050...|       0.0|\n",
      "| 23|blue-collar|       single|  primary|     no| 8627.0|    yes|  no| cellular| 15|  may|   169.0|     1.0|346.0|     1.0| failure|                      no|[23.0,8627.0,169....|[0.06153846153846...|      0.0|                1.0|            2.0|          0.0|          0.0|      9.0|          0.0|        0.0|           1.0| (11,[0],[1.0])|    (2,[1],[1.0])|(3,[2],[1.0])|(1,[0],[1.0])|(1,[0],[1.0])| (30,[9],[1.0])|(2,[0],[1.0])| (11,[0],[1.0])|(3,[1],[1.0])|(64,[0,12,15,16,1...|(70,[0,1,2,3,4,6,...|  0.0|[3.40189799478922...|[0.96776379969547...|       0.0|\n",
      "| 23|blue-collar|       single|  primary|     no| 8627.0|    yes|  no|  unknown|  3|  jun|   281.0|     1.0| -1.0|     0.0| unknown|                      no|[23.0,8627.0,281....|[0.06153846153846...|      0.0|                1.0|            2.0|          0.0|          0.0|     21.0|          1.0|        3.0|           0.0| (11,[0],[1.0])|    (2,[1],[1.0])|(3,[2],[1.0])|(1,[0],[1.0])|(1,[0],[1.0])|(30,[21],[1.0])|(2,[1],[1.0])| (11,[3],[1.0])|(3,[0],[1.0])|(64,[0,12,15,16,1...|(70,[0,1,2,6,18,2...|  0.0|[3.73013130322372...|[0.97657233657556...|       0.0|\n",
      "| 23|blue-collar|       single|  unknown|     no|  817.0|    yes|  no| cellular| 18|  may|   123.0|     1.0| -1.0|     0.0| unknown|                      no|[23.0,817.0,123.0...|[0.06153846153846...|      0.0|                1.0|            3.0|          0.0|          0.0|      1.0|          0.0|        0.0|           0.0| (11,[0],[1.0])|    (2,[1],[1.0])|    (3,[],[])|(1,[0],[1.0])|(1,[0],[1.0])| (30,[1],[1.0])|(2,[0],[1.0])| (11,[0],[1.0])|(3,[0],[1.0])|(64,[0,12,16,17,1...|(70,[0,1,2,6,18,2...|  0.0|[3.71469031000375...|[0.97621645327074...|       0.0|\n",
      "| 23|   services|      married|secondary|     no|    0.0|    yes|  no|  unknown| 20|  jun|    13.0|    10.0| -1.0|     0.0| unknown|                      no|[23.0,0.0,13.0,0....|[0.06153846153846...|      4.0|                0.0|            0.0|          0.0|          0.0|      0.0|          1.0|        3.0|           0.0| (11,[4],[1.0])|    (2,[0],[1.0])|(3,[0],[1.0])|(1,[0],[1.0])|(1,[0],[1.0])| (30,[0],[1.0])|(2,[1],[1.0])| (11,[3],[1.0])|(3,[0],[1.0])|(64,[4,11,13,16,1...|(70,[0,2,5,10,17,...|  0.0|[6.24010593264247...|[0.99805414475425...|       0.0|\n",
      "| 23|   services|       single|secondary|     no|  250.0|    yes|  no| cellular| 18|  may|   222.0|     1.0| -1.0|     0.0| unknown|                      no|[23.0,250.0,222.0...|[0.06153846153846...|      4.0|                1.0|            0.0|          0.0|          0.0|      1.0|          0.0|        0.0|           0.0| (11,[4],[1.0])|    (2,[1],[1.0])|(3,[0],[1.0])|(1,[0],[1.0])|(1,[0],[1.0])| (30,[1],[1.0])|(2,[0],[1.0])| (11,[0],[1.0])|(3,[0],[1.0])|(64,[4,12,13,16,1...|(70,[0,1,2,10,18,...|  0.0|[3.41192810320294...|[0.96807524543768...|       0.0|\n",
      "| 23|   services|       single|secondary|     no|  500.0|    yes|  no|  unknown|  4|  jun|   111.0|     3.0| -1.0|     0.0| unknown|                      no|[23.0,500.0,111.0...|[0.06153846153846...|      4.0|                1.0|            0.0|          0.0|          0.0|     18.0|          1.0|        3.0|           0.0| (11,[4],[1.0])|    (2,[1],[1.0])|(3,[0],[1.0])|(1,[0],[1.0])|(1,[0],[1.0])|(30,[18],[1.0])|(2,[1],[1.0])| (11,[3],[1.0])|(3,[0],[1.0])|(64,[4,12,13,16,1...|(70,[0,1,2,5,10,1...|  0.0|[4.66223740774009...|[0.99064307329124...|       0.0|\n",
      "+---+-----------+-------------+---------+-------+-------+-------+----+---------+---+-----+--------+--------+-----+--------+--------+------------------------+--------------------+--------------------+---------+-------------------+---------------+-------------+-------------+---------+-------------+-----------+--------------+---------------+-----------------+-------------+-------------+-------------+---------------+-------------+---------------+-------------+--------------------+--------------------+-----+--------------------+--------------------+----------+\n",
      "only showing top 20 rows\n",
      "\n"
     ]
    }
   ],
   "source": [
    "train_predictions_lr.show()"
   ]
  },
  {
   "cell_type": "code",
   "execution_count": 115,
   "metadata": {
    "id": "BgdJ4Ik2uoAJ"
   },
   "outputs": [],
   "source": [
    "test_predictions_lr = lr_pipeline_model.transform(testingData)"
   ]
  },
  {
   "cell_type": "code",
   "execution_count": 116,
   "metadata": {
    "colab": {
     "base_uri": "https://localhost:8080/"
    },
    "id": "huEnVVbhuqUI",
    "outputId": "85f657a5-a863-4dd5-c1ee-e05e467ed1ac"
   },
   "outputs": [
    {
     "name": "stdout",
     "output_type": "stream",
     "text": [
      "Training Set Accuracy =  0.9048531289910601\n",
      "Training error =  0.09514687100893993\n"
     ]
    }
   ],
   "source": [
    "from pyspark.ml.evaluation import MulticlassClassificationEvaluator\n",
    "predictionAndLabels_train_lr = train_predictions_lr.select(\"prediction\",\"label\")\n",
    "evaluator = MulticlassClassificationEvaluator(metricName=\"accuracy\")\n",
    "train_accuracy_lr = evaluator.evaluate(predictionAndLabels_train_lr)\n",
    "print(\"Training Set Accuracy = \",train_accuracy_lr)\n",
    "print(\"Training error = \", 1-train_accuracy_lr)"
   ]
  },
  {
   "cell_type": "code",
   "execution_count": 133,
   "metadata": {
    "colab": {
     "base_uri": "https://localhost:8080/"
    },
    "id": "zXMyB7EKuwPo",
    "outputId": "f81570f6-55d0-4c8f-e819-0b1e494ac0e5"
   },
   "outputs": [
    {
     "name": "stdout",
     "output_type": "stream",
     "text": [
      "Testing Set Accuracy =  0.8826493880489561\n",
      "Testing error  0.1173506119510439\n"
     ]
    }
   ],
   "source": [
    "predictionAndLabels_test_lr = test_predictions_lr.select(\"prediction\",\"label\")\n",
    "evaluator = MulticlassClassificationEvaluator(metricName=\"accuracy\")\n",
    "test_accuracy_lr = evaluator.evaluate(predictionAndLabels_test_lr)\n",
    "print(\"Testing Set Accuracy = \",test_accuracy_lr)\n",
    "print(\"Testing error \", 1-test_accuracy_lr)"
   ]
  },
  {
   "cell_type": "code",
   "execution_count": 134,
   "metadata": {
    "colab": {
     "base_uri": "https://localhost:8080/"
    },
    "id": "2u5A39aWuyRX",
    "outputId": "023e0106-16fe-4c33-f82f-a2c852c927c1"
   },
   "outputs": [
    {
     "data": {
      "text/plain": [
       "54"
      ]
     },
     "execution_count": 134,
     "metadata": {},
     "output_type": "execute_result"
    }
   ],
   "source": [
    "true_positive = predictionAndLabels_test_lr[(predictionAndLabels_test_lr.prediction == 1.0) & (predictionAndLabels_test_lr.label ==1.0 )].count()\n",
    "true_positive"
   ]
  },
  {
   "cell_type": "code",
   "execution_count": 135,
   "metadata": {
    "colab": {
     "base_uri": "https://localhost:8080/"
    },
    "id": "hEQnhuOXu2X7",
    "outputId": "118b9436-1dbd-4302-a24f-9fe40396bfe7"
   },
   "outputs": [
    {
     "data": {
      "text/plain": [
       "1172"
      ]
     },
     "execution_count": 135,
     "metadata": {},
     "output_type": "execute_result"
    }
   ],
   "source": [
    "true_negative = predictionAndLabels_test_lr[(predictionAndLabels_test_lr.prediction == 0.0) & (predictionAndLabels_test_lr.label ==0.0 )].count()\n",
    "true_negative"
   ]
  },
  {
   "cell_type": "code",
   "execution_count": 136,
   "metadata": {
    "colab": {
     "base_uri": "https://localhost:8080/"
    },
    "id": "0TWbh5BUu8gF",
    "outputId": "4a82e1e3-5a8d-4312-cf41-c77a6ed40ab5"
   },
   "outputs": [
    {
     "data": {
      "text/plain": [
       "29"
      ]
     },
     "execution_count": 136,
     "metadata": {},
     "output_type": "execute_result"
    }
   ],
   "source": [
    "false_positive = predictionAndLabels_test_lr[(predictionAndLabels_test_lr.prediction == 1.0) & (predictionAndLabels_test_lr.label ==0.0 )].count()\n",
    "false_positive"
   ]
  },
  {
   "cell_type": "code",
   "execution_count": 137,
   "metadata": {
    "colab": {
     "base_uri": "https://localhost:8080/"
    },
    "id": "An9n21zHvBGp",
    "outputId": "40c4f9f9-7507-46c5-c14e-31daa3a3bd80"
   },
   "outputs": [
    {
     "data": {
      "text/plain": [
       "134"
      ]
     },
     "execution_count": 137,
     "metadata": {},
     "output_type": "execute_result"
    }
   ],
   "source": [
    "false_negative = predictionAndLabels_test_lr[(predictionAndLabels_test_lr.prediction == 0.0) & (predictionAndLabels_test_lr.label ==1.0 )].count()\n",
    "false_negative"
   ]
  },
  {
   "cell_type": "code",
   "execution_count": 138,
   "metadata": {
    "colab": {
     "base_uri": "https://localhost:8080/"
    },
    "id": "6VURo1u7vGWv",
    "outputId": "ece11b69-3d27-4feb-8852-1ffcfe5b4d2e"
   },
   "outputs": [
    {
     "data": {
      "text/plain": [
       "0.6506024096385542"
      ]
     },
     "execution_count": 138,
     "metadata": {},
     "output_type": "execute_result"
    }
   ],
   "source": [
    "precission = true_positive/float(true_positive + false_positive)\n",
    "precission"
   ]
  },
  {
   "cell_type": "code",
   "execution_count": 128,
   "metadata": {
    "colab": {
     "base_uri": "https://localhost:8080/"
    },
    "id": "-yiqwUh5w0DM",
    "outputId": "3053e82b-3187-4439-a741-cd9b48b58366"
   },
   "outputs": [
    {
     "name": "stdout",
     "output_type": "stream",
     "text": [
      "TRAIN METRICS - LINEAR MODEL - BINOMIAL FAMILY\n",
      "True Positives: 108\n",
      "True Negatives: 2726\n",
      "False Positives: 73\n",
      "False Negatives: 225\n",
      "Total 3132\n",
      "Precission:  0.5966850828729282\n",
      "Recall:  0.32432432432432434\n",
      "F1 Score:  0.4202334630350195\n",
      "*****************************************************************************\n",
      "TEST METRICS - LINEAR MODEL - BINOMIAL FAMILY\n",
      "True Positives: 54\n",
      "True Negatives: 1172\n",
      "False Positives: 29\n",
      "False Negatives: 134\n",
      "Total 3132\n",
      "Precission:  0.6506024096385542\n",
      "Recall:  0.2872340425531915\n",
      "F1 Score:  0.3985239852398524\n"
     ]
    }
   ],
   "source": [
    "true_positive = predictionAndLabels_train_lr[(predictionAndLabels_train_lr.label == 1) & (predictionAndLabels_train_lr.prediction == 1.0)].count()\n",
    "true_negative = predictionAndLabels_train_lr[(predictionAndLabels_train_lr.label == 0) & (predictionAndLabels_train_lr.prediction == 0.0)].count()\n",
    "false_positive = predictionAndLabels_train_lr[(predictionAndLabels_train_lr.label == 0) & (predictionAndLabels_train_lr.prediction == 1.0)].count()\n",
    "false_negative = predictionAndLabels_train_lr[(predictionAndLabels_train_lr.label == 1) & (predictionAndLabels_train_lr.prediction == 0.0)].count()\n",
    "print (\"TRAIN METRICS - LINEAR MODEL - BINOMIAL FAMILY\")\n",
    "print (\"True Positives:\", true_positive)\n",
    "print (\"True Negatives:\", true_negative)\n",
    "print (\"False Positives:\", false_positive)\n",
    "print (\"False Negatives:\", false_negative)\n",
    "print (\"Total\", predictionAndLabels_train_lr.count())\n",
    "precission = true_positive / float(true_positive + false_positive)\n",
    "print (\"Precission: \", precission)\n",
    "recall = true_positive / float(true_positive + false_negative)\n",
    "print (\"Recall: \", recall)\n",
    "print (\"F1 Score: \", (2*((precission * recall)/float(precission + recall))))\n",
    "print(\"*****************************************************************************\")\n",
    "true_positive = predictionAndLabels_test_lr[(predictionAndLabels_test_lr.label == 1) & (predictionAndLabels_test_lr.prediction == 1.0)].count()\n",
    "true_negative = predictionAndLabels_test_lr[(predictionAndLabels_test_lr.label == 0) & (predictionAndLabels_test_lr.prediction == 0.0)].count()\n",
    "false_positive = predictionAndLabels_test_lr[(predictionAndLabels_test_lr.label == 0) & (predictionAndLabels_test_lr.prediction == 1.0)].count()\n",
    "false_negative = predictionAndLabels_test_lr[(predictionAndLabels_test_lr.label == 1) & (predictionAndLabels_test_lr.prediction == 0.0)].count()\n",
    "print (\"TEST METRICS - LINEAR MODEL - BINOMIAL FAMILY\")\n",
    "print (\"True Positives:\", true_positive)\n",
    "print (\"True Negatives:\", true_negative)\n",
    "print (\"False Positives:\", false_positive)\n",
    "print (\"False Negatives:\", false_negative)\n",
    "print (\"Total\", predictionAndLabels_train_lr.count())\n",
    "precission = true_positive / float(true_positive + false_positive)\n",
    "print (\"Precission: \", precission)\n",
    "recall = true_positive / float(true_positive + false_negative)\n",
    "print (\"Recall: \", recall)\n",
    "print (\"F1 Score: \", (2*((precission * recall)/float(precission + recall))))"
   ]
  },
  {
   "cell_type": "code",
   "execution_count": 139,
   "metadata": {
    "id": "oJ1yICzww5Zp"
   },
   "outputs": [],
   "source": [
    "train_pred_pandas = predictionAndLabels_train_lr.toPandas()\n",
    "train_actuals = train_pred_pandas.label.tolist()\n",
    "train_predictions = train_pred_pandas.prediction.tolist()\n",
    "\n",
    "\n",
    "test_pred_pandas = predictionAndLabels_test_lr.toPandas()\n",
    "test_actuals = test_pred_pandas.label.tolist()\n",
    "test_predictions = test_pred_pandas.prediction.tolist()\n",
    "from sklearn import metrics as smetrics\n",
    "cm = smetrics.confusion_matrix(train_actuals, train_predictions) #Confusion matrix isnt available directly in pyspark."
   ]
  },
  {
   "cell_type": "code",
   "execution_count": 140,
   "metadata": {
    "colab": {
     "base_uri": "https://localhost:8080/"
    },
    "id": "5HLtWGM_GCIP",
    "outputId": "dbaad0b6-0c9e-4efb-e804-d1cf83e9665f"
   },
   "outputs": [
    {
     "data": {
      "text/plain": [
       "array([[2726,   73],\n",
       "       [ 225,  108]])"
      ]
     },
     "execution_count": 140,
     "metadata": {},
     "output_type": "execute_result"
    }
   ],
   "source": [
    "cm"
   ]
  },
  {
   "cell_type": "code",
   "execution_count": 130,
   "metadata": {
    "colab": {
     "base_uri": "https://localhost:8080/",
     "height": 510
    },
    "id": "TRPKd-21w-U4",
    "outputId": "392161d7-a564-48f1-bfaf-689f6b221243"
   },
   "outputs": [
    {
     "name": "stdout",
     "output_type": "stream",
     "text": [
      "              Not Approved  Approved\n",
      "Not Approved          2726        73\n",
      "Approved               225       108\n"
     ]
    },
    {
     "data": {
      "text/plain": [
       "<matplotlib.axes._subplots.AxesSubplot at 0x7f6c6374dfa0>"
      ]
     },
     "execution_count": 130,
     "metadata": {},
     "output_type": "execute_result"
    },
    {
     "data": {
      "image/png": "[encoded data removed]",
      "text/plain": [
       "<Figure size 720x504 with 2 Axes>"
      ]
     },
     "metadata": {},
     "output_type": "display_data"
    }
   ],
   "source": [
    "df_cm = pd.DataFrame(cm)\n",
    "df_cm.index = ['Not Approved', 'Approved']\n",
    "df_cm.columns = ['Not Approved', 'Approved']\n",
    "names=['Not Approved', 'Approved']\n",
    "print(df_cm)\n",
    "fig = plt.figure(figsize = (10,7))\n",
    "sns.set(font_scale=1.4)#for label size\n",
    "sns.heatmap(df_cm, annot=True,fmt=\"d\",annot_kws={\"size\": 20})"
   ]
  }
 ],
 "metadata": {
  "colab": {
   "collapsed_sections": [
    "4LZ6Q0_Pa9iY"
   ],
   "provenance": []
  },
  "kernelspec": {
   "display_name": "Python 3 (ipykernel)",
   "language": "python",
   "name": "python3"
  },
  "language_info": {
   "codemirror_mode": {
    "name": "ipython",
    "version": 3
   },
   "file_extension": ".py",
   "mimetype": "text/x-python",
   "name": "python",
   "nbconvert_exporter": "python",
   "pygments_lexer": "ipython3",
   "version": "3.9.13"
  }
 },
 "nbformat": 4,
 "nbformat_minor": 1
}
